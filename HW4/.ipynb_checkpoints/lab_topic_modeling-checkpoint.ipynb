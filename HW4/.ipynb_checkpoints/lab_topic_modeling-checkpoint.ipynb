{
 "cells": [
  {
   "cell_type": "markdown",
   "metadata": {},
   "source": [
    "# Практическое задание 4 \n",
    "\n",
    "# Мультиязычный тематический поиск\n",
    "\n",
    "## курс \"Математические методы анализа текстов\"\n",
    "\n",
    "\n",
    "### ФИО: Хуршудов Артем"
   ]
  },
  {
   "cell_type": "markdown",
   "metadata": {},
   "source": [
    "## Введение\n",
    "\n",
    "### Постановка задачи:\n",
    "\n",
    "В этом задании вам предстоит сделать свою небольшую мультиязычную поисковую систему. Проще всего строить мультиязычные системы, имея \"параллельные\" данные: словари или корпуса параллельных текстов. \n",
    "\n",
    "В задании необходимо, имея англо-русскую и агло-испанскую коллекции, обучить модель поиска модель поиска испанских текстов по русским.\n",
    "\n",
    "Решение этого задания будет основано на тематическом моделировании, а именно подходе аддитивной регуляризации.\n",
    "\n",
    "### Библиотеки\n",
    "\n",
    "Для этого задания вам понадобятся следующие библиотеки:\n",
    " - [bigartm](http://bigartm.org/)\n",
    " - [pymorphy2](https://pymorphy2.readthedocs.io/en/latest/)\n",
    " - [nltk](http://www.nltk.org/)\n",
    "\n",
    "\n",
    "### Данные\n",
    "\n",
    "Данные — записи выступлений конференции TED Talks на трёх языках. \n",
    "\n",
    "Все данные содержатся в архиве `ted_collection`. В папке содержится три подпапки `/en`, `/ru` и `/es`, каждая из которых соответствует коллекции для отдельного языка. Папка `parallel_info`  содержит информацию о связях документов между коллекциями. Файл `titles_file.json` содержит информацию о заголовках документов английской коллекции.\n",
    "\n",
    "Ссылка для скачивания данных: [ссылка на гугл диск](https://drive.google.com/file/d/1B3kDfISvWnVpEet_CDa6oLNp028mEak-/view)"
   ]
  },
  {
   "cell_type": "markdown",
   "metadata": {},
   "source": [
    "#### Импорт важных библиотек"
   ]
  },
  {
   "cell_type": "code",
   "execution_count": 61,
   "metadata": {},
   "outputs": [],
   "source": [
    "# считывание\n",
    "import os\n",
    "import glob\n",
    "import json\n",
    "\n",
    "# предобработка\n",
    "import pymorphy2\n",
    "import nltk\n",
    "import re\n",
    "import pymystem3\n",
    "\n",
    "# тематическое моделирование\n",
    "import artm\n",
    "\n",
    "# change log style for artm\n",
    "lc = artm.messages.ConfigureLoggingArgs()\n",
    "lc.minloglevel = 3\n",
    "lib = artm.wrapper.LibArtm(logging_config=lc)\n",
    "\n",
    "# визуализация\n",
    "import matplotlib.pyplot as plt\n",
    "%matplotlib inline\n",
    "\n",
    "# прочее \n",
    "import numpy as np\n",
    "from tqdm import tqdm\n",
    "import pandas as pd"
   ]
  },
  {
   "cell_type": "markdown",
   "metadata": {},
   "source": [
    "#### Несколько важных промежуточных функций"
   ]
  },
  {
   "cell_type": "code",
   "execution_count": 2,
   "metadata": {},
   "outputs": [],
   "source": [
    "# загрузка коллекции\n",
    "from lab4_utils import load_collection\n",
    "\n",
    "# загрузка информации о параллельных документах\n",
    "from lab4_utils import load_parallel_documents_info\n",
    "\n",
    "# запись vowpal wabit файла специального формата\n",
    "from lab4_utils import write_vw_lab4\n",
    "\n",
    "# подсчёт позиции в выдаче переводов текстов\n",
    "from lab4_utils import get_indexes_of_relevant_documents"
   ]
  },
  {
   "cell_type": "markdown",
   "metadata": {},
   "source": [
    "## Предобработка данных (3 балла)\n",
    "\n",
    "Перед тем как начать моделировать, необходимо предобработать данные. \n",
    "\n",
    "Заметим, что для английского языка некоторые этапы обработки не оказывают сильного влияния на модель (например, лемматизация). В русском языке одному слову может соответствовать огромное количество различных форм, поэтому без лемматизации невозможно получить модель с хорошим качеством."
   ]
  },
  {
   "cell_type": "markdown",
   "metadata": {},
   "source": [
    "#### Предобработка русских текстов\n"
   ]
  },
  {
   "cell_type": "markdown",
   "metadata": {},
   "source": [
    "Считываем коллекцию:"
   ]
  },
  {
   "cell_type": "code",
   "execution_count": 6,
   "metadata": {},
   "outputs": [
    {
     "name": "stdout",
     "output_type": "stream",
     "text": [
      "Total number of documents: 2731\n",
      "\n",
      "Some document examples: \n",
      "\t10 марта 2011 года я был в Кембридже в MIT Media Lab на встрече с профессорами, студентами и персона...\n",
      "\tПоследние 10 лет я провёл, пытаясь понять, как и почему люди объединяются в социальные сети. Социаль...\n",
      "\tКое-что в физике не давало мне покоя с самого детства. Речь идёт о вопросе, которым учёные задаются ...\n",
      "\t26 января 2013 года боевики «Аль-Каиды» ворвались в древний город Тимбукту на юге Сахары. Они подожг...\n",
      "\tВам знакомо расхожее мнение, что защита климата – занятие дорогое, иначе проблема была бы давно реше...\n",
      "\n",
      "Some file names examples: \n",
      "\tru_2334\n",
      "\tru_1783\n",
      "\tru_2106\n",
      "\tru_927\n",
      "\tru_2562\n"
     ]
    }
   ],
   "source": [
    "RU_DATA_PATH = 'ted_collection/ru'\n",
    "ru_collection = load_collection(RU_DATA_PATH, verbose=True)"
   ]
  },
  {
   "cell_type": "markdown",
   "metadata": {},
   "source": [
    "Выведите полностью несколько документов. Подумайте, какую информацию из них можно удалить на этапе предобработки, не ухудшив качество решения задачи."
   ]
  },
  {
   "cell_type": "code",
   "execution_count": 7,
   "metadata": {},
   "outputs": [],
   "source": [
    "def ru_delete_trash(text):\n",
    "#     delete (Аплодисменты)\n",
    "    text = text.replace(\"(Аплодисменты)\", \"\")\n",
    "    \n",
    "#     remove last eng symbols\n",
    "    text = text[:text.rfind(\"TED.com\")]\n",
    "    \n",
    "    return text"
   ]
  },
  {
   "cell_type": "markdown",
   "metadata": {},
   "source": [
    "Помимо удаления специфичной информации, вам необходимо провести для русского языка следующие шаги предобработки :\n",
    "\n",
    "1. Приведение документов к нижнему регистру.\n",
    "\n",
    "2. Удаление всех символов кроме букв.\n",
    "    1. Для некоторых способов выделения коллокаций (см. бонусную часть), может быть полезна информация о знаках препинания. Также она полезна при необходимости строить синтаксический разбор предложения.\n",
    "    2. Вам может помочь функция sub из библиотеки re.\n",
    "3. Токенизация документов.\n",
    "    1. Воспользуйтесь стандартным методом .split, функцией split из библиотеки re или одним из токенайзеров библиотеки nltk.\n",
    "4. Лемматизация документов.\n",
    "    1. Воспользуйтесь библиотекой pymorphy2\n",
    "    2. Шаги 3 и 4 можно выполнить вместе, воспользовавшись библиотекой mytem (или её обёрткой на python pymystem)\n",
    "5. Удаление стоп-слов\n",
    "    1. Базовый список стоп слов можно получить из модуля nltk.corpus\n",
    "\n",
    "После выполнения всех шагов сохраните результат в словарь аналогичный ru_collection (ключи - названия файлов, значения - предобработанный документ в формате str).\n",
    "\n"
   ]
  },
  {
   "cell_type": "code",
   "execution_count": 8,
   "metadata": {},
   "outputs": [],
   "source": [
    "m = pymystem3.Mystem()\n",
    "STOPWORDS_ru = nltk.corpus.stopwords.words('russian') + [' ', '\\n']\n",
    "\n",
    "def preprocess_ru(text):\n",
    "    text = text.lower()\n",
    "    text = re.sub(r'[^\\w ]', ' ', text)\n",
    "    text = re.sub(r'\\d_', '', text)\n",
    "    text = re.sub(r'[\\s]+', ' ', text)\n",
    "    text = m.lemmatize(text)\n",
    "    text = [word for word in text if word not in STOPWORDS_ru]\n",
    "    return text"
   ]
  },
  {
   "cell_type": "code",
   "execution_count": 11,
   "metadata": {},
   "outputs": [
    {
     "name": "stderr",
     "output_type": "stream",
     "text": [
      "100%|██████████| 2731/2731 [04:21<00:00, 10.46it/s]\n"
     ]
    }
   ],
   "source": [
    "preprocessed_ru_collection = {}\n",
    "for key in tqdm(list(ru_collection.keys())):\n",
    "    preprocessed_ru_collection[key] = preprocess_ru(ru_delete_trash(ru_collection[key]))"
   ]
  },
  {
   "cell_type": "markdown",
   "metadata": {},
   "source": [
    "Проанализируйте несколько предобработанных документов. Отметьте, какие неточности работы алгоритмов вы заметили, и как они могут повлиять на итоговую модель."
   ]
  },
  {
   "cell_type": "markdown",
   "metadata": {},
   "source": [
    "1. некоторые стопслова не содержаться в nltk.corpus, например 'это'\n",
    "2. ошибка при букве 'ё'"
   ]
  },
  {
   "cell_type": "markdown",
   "metadata": {},
   "source": [
    "#### Предобработка английских текстов\n",
    "\n",
    "Считываем коллекцию:"
   ]
  },
  {
   "cell_type": "code",
   "execution_count": 12,
   "metadata": {},
   "outputs": [
    {
     "name": "stdout",
     "output_type": "stream",
     "text": [
      "Total number of documents: 2856\n",
      "\n",
      "Some document examples: \n",
      "\tToday, I want you to look at children who become suicide bombers through a completely different lens...\n",
      "\tI have a very difficult task. I'm a spectroscopist. I have to talk about astronomy without showing y...\n",
      "\tI really am honored to be here, and as Chris said, it's been over 20 years since I started working i...\n",
      "\tThirteen years ago, we set ourselves a goal to end poverty. After some success, we've hit a big hurd...\n",
      "\tOne thing the world needs, one thing this country desperately needs is a better way of conducting ou...\n",
      "\n",
      "Some file names examples: \n",
      "\ten_495\n",
      "\ten_1635\n",
      "\ten_2282\n",
      "\ten_1407\n",
      "\ten_1063\n"
     ]
    }
   ],
   "source": [
    "EN_DATA_PATH = 'ted_collection/en'\n",
    "en_collection = load_collection(EN_DATA_PATH, verbose=True)"
   ]
  },
  {
   "cell_type": "markdown",
   "metadata": {},
   "source": [
    "Проведите все этапы предобработки для английского языка (шаг 4 опционален, можно использовать WordNetLemmatizer из nltk):"
   ]
  },
  {
   "cell_type": "code",
   "execution_count": 13,
   "metadata": {},
   "outputs": [],
   "source": [
    "STOPWORDS_en = nltk.corpus.stopwords.words('english')\n",
    "\n",
    "def en_delete_trash(text):\n",
    "#     delete (Аплодисменты)\n",
    "    text = text.replace(\"(Applause)\", \"\")\n",
    "    \n",
    "#     remove last eng symbols\n",
    "    text = text[:text.rfind(\"TED.com\")]\n",
    "    return text\n",
    "\n",
    "def preprocess_en(text):\n",
    "    text = text.lower()\n",
    "    text = re.sub(r'[^\\w ]', ' ', text)\n",
    "    text = re.sub(r'\\d_', '', text)\n",
    "    text = re.sub(r'[\\s]+', ' ', text)\n",
    "    text = text.split(\" \")\n",
    "    text = [word for word in text if word not in STOPWORDS_en]\n",
    "    return text\n",
    "    \n",
    "    return text"
   ]
  },
  {
   "cell_type": "code",
   "execution_count": 14,
   "metadata": {},
   "outputs": [
    {
     "name": "stderr",
     "output_type": "stream",
     "text": [
      "100%|██████████| 2856/2856 [00:13<00:00, 207.20it/s]\n"
     ]
    }
   ],
   "source": [
    "preprocessed_en_collection = {}\n",
    "for key in tqdm(list(en_collection.keys())):\n",
    "    preprocessed_en_collection[key] = preprocess_en(en_delete_trash(en_collection[key]))"
   ]
  },
  {
   "cell_type": "markdown",
   "metadata": {},
   "source": [
    "#### Предобработка испанских текстов \n",
    "\n",
    "Считываем коллекцию:"
   ]
  },
  {
   "cell_type": "code",
   "execution_count": 15,
   "metadata": {},
   "outputs": [
    {
     "name": "stdout",
     "output_type": "stream",
     "text": [
      "Total number of documents: 2809\n",
      "\n",
      "Some document examples: \n",
      "\tEra mi tercer día de trabajo en una empresa emergente en Silicon Valley a principios de 2013. Tenía ...\n",
      "\tEstamos en un momento crítico. Nuestros líderes, algunas de nuestras grandes instituciones nos están...\n",
      "\tEste es el museo de Historia Natural de Rotterdam, donde trabajo como curador. Cuido la colección y ...\n",
      "\tChris Anderson: Vamos a tener un debate. El debate es sobre la propuesta: \"Lo que el mundo necesita ...\n",
      "\tSoy microbióloga oceanográfica en la Universidad de Tennessee, y quiero hablarles sobre algunos micr...\n",
      "\n",
      "Some file names examples: \n",
      "\tes_1801\n",
      "\tes_309\n",
      "\tes_907\n",
      "\tes_1459\n",
      "\tes_2826\n"
     ]
    }
   ],
   "source": [
    "ES_DATA_PATH = 'ted_collection/es'\n",
    "es_collection = load_collection(ES_DATA_PATH, verbose=True)"
   ]
  },
  {
   "cell_type": "markdown",
   "metadata": {},
   "source": [
    "Проведите все этапы предобработки для испанского языка (шаг 4 опционален, можно использовать SpanishStemmer из nltk). \n",
    "\n",
    "**Замечание.** Регулярное выражение \\w из библиотеки re позволяет выделять буквы (в том числе буквы испанского алфавита)."
   ]
  },
  {
   "cell_type": "code",
   "execution_count": 153,
   "metadata": {},
   "outputs": [],
   "source": [
    "STOPWORDS_es = nltk.corpus.stopwords.words('spanish')\n",
    "st = nltk.stem.snowball.SpanishStemmer()\n",
    "\n",
    "def es_delete_trash(text):\n",
    "#     delete (Аплодисменты)\n",
    "    text = text.replace(\"(Aplausos)\", \"\")\n",
    "    \n",
    "#     remove last esp symbols\n",
    "    text = text[:text.rfind(\"TED.com\")]\n",
    "    return text\n",
    "\n",
    "def preprocess_es(text):\n",
    "    text = text.lower()\n",
    "    text = re.sub(r'[^\\w ]', ' ', text)\n",
    "    text = re.sub(r'\\d_', '', text)\n",
    "    text = re.sub(r'[\\s]+', ' ', text)\n",
    "    text = text.split(\" \")\n",
    "    text = [st.stem(word) for word in text if word not in STOPWORDS_es]\n",
    "    return text\n",
    "    \n",
    "    return text"
   ]
  },
  {
   "cell_type": "code",
   "execution_count": 154,
   "metadata": {},
   "outputs": [
    {
     "name": "stderr",
     "output_type": "stream",
     "text": [
      "100%|██████████| 2809/2809 [01:47<00:00, 26.23it/s]\n"
     ]
    }
   ],
   "source": [
    "preprocessed_es_collection = {}\n",
    "for key in tqdm(list(es_collection.keys())):\n",
    "    preprocessed_es_collection[key] = preprocess_es(es_delete_trash(es_collection[key]))"
   ]
  },
  {
   "cell_type": "markdown",
   "metadata": {},
   "source": [
    "#### Дополнительная предобработка\n",
    "\n",
    "Библиотека BigARTM имеет собственный формат документов для обработки, называемый батчами. Самый простой способ создать батчи из коллекции файлов - сконвертировать в батчи vowpal wabbit файл с коллекцией (https://github.com/VowpalWabbit/vowpal_wabbit/wiki/Input-format). \n",
    "\n",
    "Тематические модели работают с мешком слов, поэтому в vowpal wabbit файле можно не хранить информацию о порядке слов в документе.\n",
    "\n",
    "Чтобы обучить мультиязычную модель, мы будем использовать апарат модальностей тематической модели. Каждому языку будет соответствовать своя модальность (`@english`, `@russian` и `@spanish` в vowpal wabbit файле). \n",
    "\n",
    "Для экспериментов нам понадобится два файла. Один будет содержать информацию о параллельных документов, а другой нет. В втором файле каждая строчка соответствует конкретному документу. В первом файле, если у документа есть параллельный, он будет располагаться на этой же строчке в рамках другой модальности.\n",
    "\n",
    "Весь код для сохранения файла в vowpal wabbit формате уже написан, вам только необходимо правильно воспользоваться функцией. В частности, проследите, чтобы в ваших документах не содержалось символов ':', '|' и '@'."
   ]
  },
  {
   "cell_type": "markdown",
   "metadata": {},
   "source": [
    "В файлах en_ru_match.txt и en_es_match.txt содержится информация о том, какие документы являются параллельными. "
   ]
  },
  {
   "cell_type": "code",
   "execution_count": 155,
   "metadata": {},
   "outputs": [
    {
     "name": "stdout",
     "output_type": "stream",
     "text": [
      "Total number of pairs: 1000\n",
      "Total number of pairs: 1000\n"
     ]
    }
   ],
   "source": [
    "en_ru_parallel_docs = load_parallel_documents_info('ted_collection/parallel_info/en_ru_match.txt')\n",
    "en_es_parallel_docs = load_parallel_documents_info('ted_collection/parallel_info/en_es_match.txt')"
   ]
  },
  {
   "cell_type": "markdown",
   "metadata": {},
   "source": [
    "Воспользуйтесь функцией write_vw_lab4, чтобы сохранить данные в нужном формате:"
   ]
  },
  {
   "cell_type": "code",
   "execution_count": 156,
   "metadata": {},
   "outputs": [],
   "source": [
    "# vowpal wabbit файлы с коллекцией\n",
    "DATA_PATH_PARALLEL = 'ted_collection/collection_parallel.vw'\n",
    "DATA_PATH_MONO = 'ted_collection/collection_mono.vw'\n",
    "\n",
    "write_vw_lab4(\n",
    "    DATA_PATH_PARALLEL,\n",
    "    preprocessed_en_collection,\n",
    "    preprocessed_ru_collection,\n",
    "    preprocessed_es_collection,\n",
    "    en_ru_parallel_docs,\n",
    "    en_es_parallel_docs,\n",
    "    use_parallel_info=True\n",
    ")\n",
    "\n",
    "\n",
    "write_vw_lab4(\n",
    "    DATA_PATH_MONO,\n",
    "    preprocessed_en_collection,\n",
    "    preprocessed_ru_collection,\n",
    "    preprocessed_es_collection,\n",
    "    en_ru_parallel_docs,\n",
    "    en_es_parallel_docs,\n",
    "    use_parallel_info=False\n",
    ")"
   ]
  },
  {
   "cell_type": "markdown",
   "metadata": {},
   "source": [
    "## Базовая моноязычная тематическая модель (2 балла)\n",
    "\n",
    "Теорию тематического моделирования можно узнать из лекций [9](http://www.machinelearning.ru/wiki/images/7/79/Mmta2018-artm-1.pdf) и [10](http://www.machinelearning.ru/wiki/images/a/ab/Mmta2018-artm-2.pdf).\n",
    "\n",
    "Научиться пользоваться bigartm легче всего по гайду из документации [ссылка](http://docs.bigartm.org/en/stable/tutorials/python_userguide/index.html).\n",
    "\n",
    "#### Подготовка к моделированию\n",
    "\n",
    "Чтобы преобразовать полученный vowpal wabbit файл в батчи, можно воспользоваться стандартным классом BatchVectorizer. Объект этого класса принимает на вход адрес папки с батчами или файл vowpal wabbit, а затем подаётся на вход для обучения методам. В случае, если входные данные не являются батчами, он создаёт их и сохраняет на диск для последующего быстрого использования.\n",
    "\n",
    "В этой части экспериментов, вам предлагается построить моноязычную тематическую модель только для английского языка, поэтому для обучения используйте файл DATA_PATH_MONO."
   ]
  },
  {
   "cell_type": "code",
   "execution_count": 20,
   "metadata": {},
   "outputs": [],
   "source": [
    "# папка с батчами\n",
    "BATCHES_PATH_MONO = 'ted_collection/batch_mono'"
   ]
  },
  {
   "cell_type": "code",
   "execution_count": 157,
   "metadata": {},
   "outputs": [],
   "source": [
    "# если BATCHES_PATH_MONO пуста, батчи будут созданы из файла в DATA_PATH_MONO\n",
    "# иначе использовать BATCHES_PATH_MONO\n",
    "if len(glob.glob(os.path.join(BATCHES_PATH_MONO + '/*.batch'))) < 1:\n",
    "    batch_vectorizer_mono = artm.BatchVectorizer(data_path=DATA_PATH_MONO, \n",
    "                                                 data_format='vowpal_wabbit',\n",
    "                                                 target_folder=BATCHES_PATH_MONO)\n",
    "else:\n",
    "    batch_vectorizer_mono = artm.BatchVectorizer(data_path=BATCHES_PATH_MONO,\n",
    "                                                 data_format='batches')"
   ]
  },
  {
   "cell_type": "markdown",
   "metadata": {},
   "source": [
    "Словарь – это объект BigARTM, содержащий информацию о коллекции (словарь коллекции, различные величины и счётчики, связанные со словами). Создать словарь можно на основе папки с батчами. Затем собранный словарь можно сохранять на диск и позже подгрузить вновь."
   ]
  },
  {
   "cell_type": "code",
   "execution_count": 158,
   "metadata": {},
   "outputs": [],
   "source": [
    "dictionary = artm.Dictionary()\n",
    "dictionary.gather(data_path=BATCHES_PATH_MONO)"
   ]
  },
  {
   "cell_type": "markdown",
   "metadata": {},
   "source": [
    "Словарь в том числе отвечает за то, на какие токены будет настраиваться модель. Редкие слова не оказывают влияние на модель, поэтому их можно удалить используя метод .filter."
   ]
  },
  {
   "cell_type": "code",
   "execution_count": 159,
   "metadata": {},
   "outputs": [
    {
     "data": {
      "text/plain": [
       "artm.Dictionary(name=6c41cc32-920f-473b-9d22-8e723a9dfd3b, num_entries=54032)"
      ]
     },
     "execution_count": 159,
     "metadata": {},
     "output_type": "execute_result"
    }
   ],
   "source": [
    "MIN_DF = 5\n",
    "\n",
    "dictionary.filter(min_df=MIN_DF)"
   ]
  },
  {
   "cell_type": "markdown",
   "metadata": {},
   "source": [
    "#### Обучение модели\n",
    "\n",
    "Пришло время приступить к моделированию! Начнём с простой одноязычной модели PLSA. Будем учитывать только модальность @english в документах коллекции. Так как коллекция небольшая, используйте небольшое число тем 30-50.\n",
    "\n",
    "Параметр theta_columns_naming='title' отвечает за именование документов лейблами из vowpal wabbit формата при получении матрицы $\\Theta$ (иначе они будут нумероваться в порядке появления в коллекции)."
   ]
  },
  {
   "cell_type": "code",
   "execution_count": 24,
   "metadata": {},
   "outputs": [],
   "source": [
    "model = artm.ARTM(num_topics=30,\n",
    "                  num_processors=7,\n",
    "                  theta_columns_naming='title',\n",
    "                  class_ids={'@english':1})\n",
    "\n",
    "model.initialize(dictionary)"
   ]
  },
  {
   "cell_type": "markdown",
   "metadata": {},
   "source": [
    "Класс artm.ARTM поддерживает различные встроенные метрики качества. Добавьте метрики измерения перплексии, разреженности $\\Phi$, разреженности $\\Theta$ и счётчик топ слов. Не забудьте, что метрики должны соответствовать только модальности @english!"
   ]
  },
  {
   "cell_type": "code",
   "execution_count": 25,
   "metadata": {},
   "outputs": [],
   "source": [
    "model.scores.add(artm.PerplexityScore(name='perplexity_score', class_ids=['@english']))\n",
    "model.scores.add(artm.SparsityPhiScore(name='sparsity_phi_score', class_id='@english'))\n",
    "model.scores.add(artm.SparsityThetaScore(name='sparsity_theta_score'))\n",
    "model.scores.add(artm.TopTokensScore(name='top_tokens_score', class_id='@english'))"
   ]
  },
  {
   "cell_type": "markdown",
   "metadata": {},
   "source": [
    "Проведите обучение модели с помощью метода fit_offline. Подберите необходимое число операций для сходимости в зависимости от значения перплексии:"
   ]
  },
  {
   "cell_type": "code",
   "execution_count": 26,
   "metadata": {},
   "outputs": [],
   "source": [
    "model.fit_offline(batch_vectorizer_mono, num_collection_passes=100)"
   ]
  },
  {
   "cell_type": "markdown",
   "metadata": {},
   "source": [
    "Выведите график изменения перплексии в зависимости от итерации алгоритма, чтобы мы знали, что ваш алгоритм точно сошёлся :)"
   ]
  },
  {
   "cell_type": "code",
   "execution_count": 27,
   "metadata": {},
   "outputs": [
    {
     "data": {
      "text/plain": [
       "[<matplotlib.lines.Line2D at 0x14bf43828>]"
      ]
     },
     "execution_count": 27,
     "metadata": {},
     "output_type": "execute_result"
    },
    {
     "data": {
      "image/png": "[encoded data removed]",
      "text/plain": [
       "<Figure size 576x360 with 1 Axes>"
      ]
     },
     "metadata": {
      "needs_background": "light"
     },
     "output_type": "display_data"
    }
   ],
   "source": [
    "plt.figure(figsize=(8,5))\n",
    "plt.plot(model.score_tracker['perplexity_score'].value[3:])"
   ]
  },
  {
   "cell_type": "code",
   "execution_count": 28,
   "metadata": {},
   "outputs": [
    {
     "data": {
      "text/plain": [
       "[<matplotlib.lines.Line2D at 0x14c71db38>]"
      ]
     },
     "execution_count": 28,
     "metadata": {},
     "output_type": "execute_result"
    },
    {
     "data": {
      "image/png": "[encoded data removed]",
      "text/plain": [
       "<Figure size 576x360 with 1 Axes>"
      ]
     },
     "metadata": {
      "needs_background": "light"
     },
     "output_type": "display_data"
    }
   ],
   "source": [
    "plt.figure(figsize=(8,5))\n",
    "plt.plot(model.score_tracker['sparsity_phi_score'].value)"
   ]
  },
  {
   "cell_type": "markdown",
   "metadata": {},
   "source": [
    "#### Интерпретация результатов\n",
    "\n",
    "Основная особенность тематических моделей — интерпретируемость получаемых матриц $\\Phi$ и $\\Theta$. С помощью $\\Phi$ для каждой темы можно узнать топ-слова, а с помощью $\\Theta$ для каждой темы можно узнать топ-документы. \n",
    "Для того, чтобы получить матрицу $\\Theta$, используйте метод .transform.\n",
    "\n",
    "Для каждой темы выведите топ её слов ($\\geq 20$) и топ заголовкой её документов ($\\geq 5$). Попробуйте интерпертировать полученные темы, действительно ли темы получаются осмысленными?"
   ]
  },
  {
   "cell_type": "code",
   "execution_count": 29,
   "metadata": {},
   "outputs": [],
   "source": [
    "file_name_to_title = {}\n",
    "with open('ted_collection/titles_file.json') as f:\n",
    "    for line in f:\n",
    "        file_name_to_title.update(json.loads(line))"
   ]
  },
  {
   "cell_type": "code",
   "execution_count": 30,
   "metadata": {},
   "outputs": [],
   "source": [
    "## DOCS\n",
    "theta = model.transform(batch_vectorizer_mono)\n",
    "\n",
    "topic2top_docs = {}\n",
    "for row_name, row in theta.iterrows():\n",
    "    topic2top_docs[row_name] = [file_name_to_title[el] for el in list(row.sort_values(ascending=False)[:5].index)]\n",
    "    \n",
    "    \n",
    "## WORDS\n",
    "phi = model.get_phi()\n",
    "\n",
    "topic2top_words = {}\n",
    "for row_name, row in phi.T.iterrows():\n",
    "    topic2top_words[row_name] = list(row.sort_values(ascending=False)[:5].index)"
   ]
  },
  {
   "cell_type": "code",
   "execution_count": 32,
   "metadata": {},
   "outputs": [
    {
     "name": "stdout",
     "output_type": "stream",
     "text": [
      "\u001b[31mtopic_20 WORDS: \u001b[0m\n",
      "world, africa, countries, people, percent, \n",
      "\u001b[31mtopic_20 DOCS TITLES: \u001b[0m\n",
      "Yasheng Huang: Does democracy stifle economic growth?\n",
      "Thomas Piketty: New thoughts on capital in the twenty-first century\n",
      "Charles Robertson: Africa's next boom\n",
      "Michael Green: How we can make the world a better place by 2030\n",
      "Hans Rosling: Let my dataset change your mindset\n",
      "----------------------------------------------------------------------------------------------------\n",
      "\u001b[31mtopic_21 WORDS: \u001b[0m\n",
      "school, children, kids, students, education, \n",
      "\u001b[31mtopic_21 DOCS TITLES: \u001b[0m\n",
      "Karim Abouelnaga: A summer school kids actually want to attend\n",
      "Nadia Lopez: Why open a school? To close a prison\n",
      "Linda Cliatt-Wayman: How to fix a broken school? Lead fearlessly, love hard\n",
      "Shai Reshef: An ultra-low-cost college degree\n",
      "Angela Lee Duckworth: Grit: The power of passion and perseverance\n",
      "----------------------------------------------------------------------------------------------------\n",
      "\u001b[31mtopic_22 WORDS: \u001b[0m\n",
      "one, see, go, like, get, \n",
      "\u001b[31mtopic_22 DOCS TITLES: \u001b[0m\n",
      "Markus Fischer: A robot that flies like a bird\n",
      "Robert Full: The sticky wonder of gecko feet\n",
      "Yves Rossy: Fly with the Jetman\n",
      "Marcus Byrne: The dance of the dung beetle\n",
      "Robert Full: The secrets of nature's grossest creatures, channeled into robots\n",
      "----------------------------------------------------------------------------------------------------\n",
      "\u001b[31mtopic_23 WORDS: \u001b[0m\n",
      "human, think, science, world, us, \n",
      "\u001b[31mtopic_23 DOCS TITLES: \u001b[0m\n",
      "David Deutsch: A new way to explain explanation\n",
      "Jim Holt: Why does the universe exist?\n",
      "David Chalmers: How do you explain consciousness?\n",
      "John Searle: Our shared condition -- consciousness\n",
      "Naomi Oreskes: Why we should trust scientists\n",
      "----------------------------------------------------------------------------------------------------\n",
      "\u001b[31mtopic_24 WORDS: \u001b[0m\n",
      "video, people, story, stories, see, \n",
      "\u001b[31mtopic_24 DOCS TITLES: \u001b[0m\n",
      "Andrew Fitzgerald: Adventures in Twitter fiction\n",
      "Ryan Merkley: Online video -- annotated, remixed and popped\n",
      "Mike Matas: A next-generation digital book\n",
      "Alison Jackson: An unusual glimpse at celebrity\n",
      "Kevin Allocca: Why videos go viral\n",
      "----------------------------------------------------------------------------------------------------\n"
     ]
    }
   ],
   "source": [
    "for key in list(topic2top_words.keys())[20:25]:\n",
    "\n",
    "    print(\"\\x1b[31m\" + key + \" WORDS: \\x1b[0m\")\n",
    "    for el in [el[1][1:-2] for el in topic2top_words[key]]:\n",
    "        print(el, end=', ')\n",
    "    print()\n",
    "    print(\"\\x1b[31m\" + key + \" DOCS TITLES: \\x1b[0m\")\n",
    "    for el in topic2top_docs[key]:\n",
    "        print(el)\n",
    "    print('-' * 100)"
   ]
  },
  {
   "cell_type": "markdown",
   "metadata": {},
   "source": [
    "Часто, топ 5 слов достаточно что бы понять смысл темы. Однако, иногда их бывает недостаточно. В таких случаях трудно понять смысл темы, как видно в topic_1, topic_22. Но в этом случае помогают названия документов.\n",
    "\n",
    "В topic_10 и topic_12 в топ 5 слов попало слово us, которое почему-то не состоит в стоп-словах, его стоит туда добавить.\n",
    "\n",
    "Возможно, стоит уменьшить число тем, так как темы некоторых документов достаточно похожи."
   ]
  },
  {
   "cell_type": "markdown",
   "metadata": {},
   "source": [
    "## Мультиязычная тематическая модель (5 баллов)\n",
    "\n",
    "В этом пункте задания вам будет необходимо обучить мультиязычную тематическую модель.\n",
    "\n",
    "В данном пункте вы будете реализовывать модель ML-TD (MultiLingual Parallel).\n",
    "\n",
    "* каждый язык — отдельная модальность\n",
    "* $\\theta_{td}$ — общая для всех параллельных документов\n",
    "\n",
    "Таким образом на обучении все параллельные документы записываются в одну строку в vowpal wabbit файле.\n",
    "\n",
    "Оценивать качество модели мы будем на задаче поиска перевода текста. Вам будет необходимо оценить качество трёх переводов: с русского на английский, с испанского на английский и с русского на испанский.\n",
    "\n",
    "Поиск документов будет устроен следующим образом. Будем для документа d на языке A считать близости со всеми документами на языке B и ранжировать документы языка B по этой близости. Для каждого документа посчитаем позицию истинного перевода документа в выдаче. Итоговая метрика — медиана или среднее таких позиций по всем документам."
   ]
  },
  {
   "cell_type": "markdown",
   "metadata": {},
   "source": [
    "Выделим множества документов, для которых не было известно информации об их переводе:"
   ]
  },
  {
   "cell_type": "code",
   "execution_count": 160,
   "metadata": {},
   "outputs": [],
   "source": [
    "ru_es_parallel_docs_test = load_parallel_documents_info('ted_collection/parallel_info/ru_es_match_test.txt', verbose=False)\n",
    "ru_en_parallel_docs_test = load_parallel_documents_info('ted_collection/parallel_info/ru_en_match_test.txt', verbose=False)\n",
    "es_en_parallel_docs_test = load_parallel_documents_info('ted_collection/parallel_info/es_en_match_test.txt', verbose=False)"
   ]
  },
  {
   "cell_type": "markdown",
   "metadata": {},
   "source": [
    "Проведите подготовительный этап (создание батчей и словарей) для мультиязычной коллекции DATA_PATH_PARALLEL."
   ]
  },
  {
   "cell_type": "code",
   "execution_count": 161,
   "metadata": {},
   "outputs": [],
   "source": [
    "# папка с батчами\n",
    "BATCHES_PATH_PARALLEL = 'ted_collection/batch_parallel'"
   ]
  },
  {
   "cell_type": "code",
   "execution_count": 162,
   "metadata": {},
   "outputs": [],
   "source": [
    "# если BATCHES_PATH_MONO пуста, батчи будут созданы из файла в DATA_PATH_PARALLEL\n",
    "# иначе использовать BATCHES_PATH_MONO\n",
    "if len(glob.glob(os.path.join(BATCHES_PATH_PARALLEL + '/*.batch'))) < 1:\n",
    "    batch_vectorizer_parallel = artm.BatchVectorizer(data_path=DATA_PATH_PARALLEL, \n",
    "                                                 data_format='vowpal_wabbit',\n",
    "                                                 target_folder=BATCHES_PATH_PARALLEL)\n",
    "else:\n",
    "    batch_vectorizer_parallel = artm.BatchVectorizer(data_path=BATCHES_PATH_PARALLEL,\n",
    "                                                 data_format='batches')"
   ]
  },
  {
   "cell_type": "code",
   "execution_count": 163,
   "metadata": {},
   "outputs": [],
   "source": [
    "dictionary = artm.Dictionary()\n",
    "dictionary.gather(data_path=BATCHES_PATH_PARALLEL)"
   ]
  },
  {
   "cell_type": "code",
   "execution_count": 164,
   "metadata": {},
   "outputs": [
    {
     "data": {
      "text/plain": [
       "artm.Dictionary(name=033075bc-9806-49a7-8ec5-35450b2853fb, num_entries=54032)"
      ]
     },
     "execution_count": 164,
     "metadata": {},
     "output_type": "execute_result"
    }
   ],
   "source": [
    "MIN_DF = 5\n",
    "\n",
    "dictionary.filter(min_df=MIN_DF)"
   ]
  },
  {
   "cell_type": "markdown",
   "metadata": {},
   "source": [
    "Обучите мультиязычную модель и проинтерпертируйте полученные темы. Если вы всё сделали правильно, то топ-слова различных языков для одной темы должны получиться достаточно похожими."
   ]
  },
  {
   "cell_type": "code",
   "execution_count": 165,
   "metadata": {},
   "outputs": [],
   "source": [
    "import random as rd"
   ]
  },
  {
   "cell_type": "code",
   "execution_count": 172,
   "metadata": {},
   "outputs": [
    {
     "data": {
      "text/plain": [
       "(0.35, 0.9, 0.5)"
      ]
     },
     "execution_count": 172,
     "metadata": {},
     "output_type": "execute_result"
    }
   ],
   "source": [
    "# kf_ru = rd.random()\n",
    "# kf_en = rd.random()\n",
    "# kf_es = rd.random()\n",
    "# while (kf_en < kf_es * 2) or (kf_en < kf_ru * 2):\n",
    "#     kf_ru = rd.random()\n",
    "#     kf_en = rd.random()\n",
    "#     kf_es = rd.random()\n",
    "\n",
    "kf_es, kf_en, kf_ru = 0.35, 0.9, 0.50\n",
    "kf_es, kf_en, kf_ru"
   ]
  },
  {
   "cell_type": "code",
   "execution_count": 176,
   "metadata": {},
   "outputs": [
    {
     "name": "stdout",
     "output_type": "stream",
     "text": [
      "0 :\n",
      "4.0 49.535\n",
      "19.0 102.125\n",
      "1.0 37.4675\n",
      "--------------------\n",
      "1 :\n",
      "1.0 22.315\n",
      "2.0 30.70375\n",
      "0.0 8.45375\n",
      "--------------------\n",
      "2 :\n",
      "0.0 12.72\n",
      "1.0 14.42875\n",
      "0.0 3.37875\n",
      "--------------------\n",
      "3 :\n",
      "0.0 8.4625\n",
      "0.0 9.87\n",
      "0.0 3.22625\n",
      "--------------------\n"
     ]
    },
    {
     "name": "stderr",
     "output_type": "stream",
     "text": [
      "Exception ignored in: <generator object tqdm_notebook.__iter__ at 0x1621b68e0>\n",
      "Traceback (most recent call last):\n",
      "  File \"/Users/khurshudov/Desktop/ml/code_examples/py3.6/lib/python3.6/site-packages/tqdm/_tqdm_notebook.py\", line 226, in __iter__\n",
      "    self.sp(bar_style='danger')\n",
      "AttributeError: 'tqdm_notebook' object has no attribute 'sp'\n"
     ]
    },
    {
     "ename": "KeyboardInterrupt",
     "evalue": "",
     "output_type": "error",
     "traceback": [
      "\u001b[0;31m---------------------------------------------------------------------------\u001b[0m",
      "\u001b[0;31mKeyboardInterrupt\u001b[0m                         Traceback (most recent call last)",
      "\u001b[0;32m<ipython-input-176-59d30f0180b0>\u001b[0m in \u001b[0;36m<module>\u001b[0;34m\u001b[0m\n\u001b[1;32m      7\u001b[0m \u001b[0;34m\u001b[0m\u001b[0m\n\u001b[1;32m      8\u001b[0m \u001b[0;32mfor\u001b[0m \u001b[0mit\u001b[0m \u001b[0;32min\u001b[0m \u001b[0mrange\u001b[0m\u001b[0;34m(\u001b[0m\u001b[0;36m10\u001b[0m\u001b[0;34m)\u001b[0m\u001b[0;34m:\u001b[0m\u001b[0;34m\u001b[0m\u001b[0m\n\u001b[0;32m----> 9\u001b[0;31m     \u001b[0mmodel\u001b[0m\u001b[0;34m.\u001b[0m\u001b[0mfit_offline\u001b[0m\u001b[0;34m(\u001b[0m\u001b[0mbatch_vectorizer_parallel\u001b[0m\u001b[0;34m,\u001b[0m \u001b[0mnum_collection_passes\u001b[0m\u001b[0;34m=\u001b[0m\u001b[0;36m40\u001b[0m\u001b[0;34m)\u001b[0m\u001b[0;34m\u001b[0m\u001b[0m\n\u001b[0m\u001b[1;32m     10\u001b[0m \u001b[0;34m\u001b[0m\u001b[0m\n\u001b[1;32m     11\u001b[0m     idxs__ru_en, _ = get_indexes_of_relevant_documents(model.transform(batch_vectorizer_mono),\n",
      "\u001b[0;32m~/Desktop/ml/code_examples/py3.6/lib/python3.6/site-packages/artm/artm_model.py\u001b[0m in \u001b[0;36mfit_offline\u001b[0;34m(self, batch_vectorizer, num_collection_passes, reset_nwt)\u001b[0m\n\u001b[1;32m    578\u001b[0m                     self._pool.apply_async(func=self.master.fit_offline,\n\u001b[1;32m    579\u001b[0m                                            args=(batch_vectorizer.batches_ids,\n\u001b[0;32m--> 580\u001b[0;31m                                                  batch_vectorizer.weights, 1, None, reset_nwt)),\n\u001b[0m\u001b[1;32m    581\u001b[0m                     batch_vectorizer.num_batches)\n\u001b[1;32m    582\u001b[0m \u001b[0;34m\u001b[0m\u001b[0m\n",
      "\u001b[0;32m~/Desktop/ml/code_examples/py3.6/lib/python3.6/site-packages/artm/artm_model.py\u001b[0m in \u001b[0;36mapply_async\u001b[0;34m(self, func, args)\u001b[0m\n\u001b[1;32m     97\u001b[0m \u001b[0;34m\u001b[0m\u001b[0m\n\u001b[1;32m     98\u001b[0m     \u001b[0;32mdef\u001b[0m \u001b[0mapply_async\u001b[0m\u001b[0;34m(\u001b[0m\u001b[0mself\u001b[0m\u001b[0;34m,\u001b[0m \u001b[0mfunc\u001b[0m\u001b[0;34m,\u001b[0m \u001b[0margs\u001b[0m\u001b[0;34m)\u001b[0m\u001b[0;34m:\u001b[0m\u001b[0;34m\u001b[0m\u001b[0m\n\u001b[0;32m---> 99\u001b[0;31m         \u001b[0;32mreturn\u001b[0m \u001b[0mself\u001b[0m\u001b[0;34m.\u001b[0m\u001b[0m_pool\u001b[0m\u001b[0;34m.\u001b[0m\u001b[0mapply_async\u001b[0m\u001b[0;34m(\u001b[0m\u001b[0mfunc\u001b[0m\u001b[0;34m,\u001b[0m \u001b[0margs\u001b[0m\u001b[0;34m)\u001b[0m \u001b[0;32mif\u001b[0m \u001b[0mself\u001b[0m\u001b[0;34m.\u001b[0m\u001b[0m_pool\u001b[0m \u001b[0;32melse\u001b[0m \u001b[0mfunc\u001b[0m\u001b[0;34m(\u001b[0m\u001b[0;34m*\u001b[0m\u001b[0margs\u001b[0m\u001b[0;34m)\u001b[0m\u001b[0;34m\u001b[0m\u001b[0m\n\u001b[0m\u001b[1;32m    100\u001b[0m \u001b[0;34m\u001b[0m\u001b[0m\n\u001b[1;32m    101\u001b[0m     \u001b[0;32mdef\u001b[0m \u001b[0m__deepcopy__\u001b[0m\u001b[0;34m(\u001b[0m\u001b[0mself\u001b[0m\u001b[0;34m,\u001b[0m \u001b[0mmemo\u001b[0m\u001b[0;34m)\u001b[0m\u001b[0;34m:\u001b[0m\u001b[0;34m\u001b[0m\u001b[0m\n",
      "\u001b[0;32m~/Desktop/ml/code_examples/py3.6/lib/python3.6/site-packages/artm/master_component.py\u001b[0m in \u001b[0;36mfit_offline\u001b[0;34m(self, batch_filenames, batch_weights, num_collection_passes, batches_folder, reset_nwt)\u001b[0m\n\u001b[1;32m    864\u001b[0m             \u001b[0margs\u001b[0m\u001b[0;34m.\u001b[0m\u001b[0mbatch_folder\u001b[0m \u001b[0;34m=\u001b[0m \u001b[0mbatches_folder\u001b[0m\u001b[0;34m\u001b[0m\u001b[0m\n\u001b[1;32m    865\u001b[0m \u001b[0;34m\u001b[0m\u001b[0m\n\u001b[0;32m--> 866\u001b[0;31m         \u001b[0mself\u001b[0m\u001b[0;34m.\u001b[0m\u001b[0m_lib\u001b[0m\u001b[0;34m.\u001b[0m\u001b[0mArtmFitOfflineMasterModel\u001b[0m\u001b[0;34m(\u001b[0m\u001b[0mself\u001b[0m\u001b[0;34m.\u001b[0m\u001b[0mmaster_id\u001b[0m\u001b[0;34m,\u001b[0m \u001b[0margs\u001b[0m\u001b[0;34m)\u001b[0m\u001b[0;34m\u001b[0m\u001b[0m\n\u001b[0m\u001b[1;32m    867\u001b[0m \u001b[0;34m\u001b[0m\u001b[0m\n\u001b[1;32m    868\u001b[0m     def fit_online(self, batch_filenames=None, batch_weights=None, update_after=None,\n",
      "\u001b[0;32m~/Desktop/ml/code_examples/py3.6/lib/python3.6/site-packages/artm/wrapper/api.py\u001b[0m in \u001b[0;36martm_api_call\u001b[0;34m(*args)\u001b[0m\n\u001b[1;32m    158\u001b[0m             \u001b[0;32mif\u001b[0m \u001b[0mspec\u001b[0m\u001b[0;34m.\u001b[0m\u001b[0mresult_type\u001b[0m \u001b[0;32mis\u001b[0m \u001b[0;32mnot\u001b[0m \u001b[0;32mNone\u001b[0m\u001b[0;34m:\u001b[0m\u001b[0;34m\u001b[0m\u001b[0m\n\u001b[1;32m    159\u001b[0m                 \u001b[0mfunc\u001b[0m\u001b[0;34m.\u001b[0m\u001b[0mrestype\u001b[0m \u001b[0;34m=\u001b[0m \u001b[0mspec\u001b[0m\u001b[0;34m.\u001b[0m\u001b[0mresult_type\u001b[0m\u001b[0;34m\u001b[0m\u001b[0m\n\u001b[0;32m--> 160\u001b[0;31m             \u001b[0mresult\u001b[0m \u001b[0;34m=\u001b[0m \u001b[0mfunc\u001b[0m\u001b[0;34m(\u001b[0m\u001b[0;34m*\u001b[0m\u001b[0mc_args\u001b[0m\u001b[0;34m)\u001b[0m\u001b[0;34m\u001b[0m\u001b[0m\n\u001b[0m\u001b[1;32m    161\u001b[0m             \u001b[0mself\u001b[0m\u001b[0;34m.\u001b[0m\u001b[0m_check_error\u001b[0m\u001b[0;34m(\u001b[0m\u001b[0mresult\u001b[0m\u001b[0;34m)\u001b[0m\u001b[0;34m\u001b[0m\u001b[0m\n\u001b[1;32m    162\u001b[0m \u001b[0;34m\u001b[0m\u001b[0m\n",
      "\u001b[0;31mKeyboardInterrupt\u001b[0m: "
     ]
    }
   ],
   "source": [
    "model = artm.ARTM(num_topics=16,\n",
    "                  num_processors=-1,\n",
    "                  theta_columns_naming='title',\n",
    "                  class_ids={'@english': kf_en, '@spanish': kf_es, '@russian': kf_ru})\n",
    "\n",
    "model.initialize(dictionary)\n",
    "\n",
    "for it in range(10):\n",
    "    model.fit_offline(batch_vectorizer_parallel, num_collection_passes=40)\n",
    "\n",
    "    idxs__ru_en, _ = get_indexes_of_relevant_documents(model.transform(batch_vectorizer_mono),\n",
    "                                                       ru_en_parallel_docs_test)\n",
    "    idxs__ru_es, _ = get_indexes_of_relevant_documents(model.transform(batch_vectorizer_mono),\n",
    "                                                       ru_es_parallel_docs_test)\n",
    "    idxs__es_en, _ = get_indexes_of_relevant_documents(model.transform(batch_vectorizer_mono),\n",
    "                                                       es_en_parallel_docs_test)\n",
    "    print(it, ':')\n",
    "    print(np.median(idxs__ru_en), np.mean(idxs__ru_en))\n",
    "    print(np.median(idxs__ru_es), np.mean(idxs__ru_es))\n",
    "    print(np.median(idxs__es_en), np.mean(idxs__es_en))\n",
    "    print('-' * 20)"
   ]
  },
  {
   "cell_type": "markdown",
   "metadata": {},
   "source": [
    "Протестируйте качество на трёх задачах перевода. Добейтесь хорошего качества (медиана позиции в выдаче ~ 0, среднее ~ 10). Получить положение в выдаче переводов текстов вам поможет функция get_indexes_of_relevant_documents из модуля lab4_utils. Для того, чтобы всё работало корректно (на тесте не должна быть известна информация о параллельности документов), подавайте в качестве theta результат model.transform(batch_vectorizer_mono).\n",
    "\n",
    "Возможные способы улучшения:\n",
    "* изменять количество тем, количество итераций обучения\n",
    "* изменять веса модальностей\n",
    "* добавлять регуляризаторы (см. бонусную часть)\n",
    "* изменять метрику для поиска ближайших документов\n",
    "* добавлять шаги в предобработку (выделение колокаций)\n",
    "\n",
    "За нетривиальные подходы могут быть начислены дополнительные бонусные баллы!"
   ]
  },
  {
   "cell_type": "code",
   "execution_count": 59,
   "metadata": {},
   "outputs": [
    {
     "name": "stdout",
     "output_type": "stream",
     "text": [
      "1454.5 1461.40125\n",
      "1449.0 1434.84\n",
      "1503.5 1495.88125\n"
     ]
    }
   ],
   "source": [
    "tmp = get_indexes_of_relevant_documents(model.transform(batch_vectorizer_mono), ru_en_parallel_docs_test)\n",
    "print(np.median(tmp[0]), np.mean(tmp[0]))\n",
    "\n",
    "tmp = get_indexes_of_relevant_documents(model.transform(batch_vectorizer_mono), ru_es_parallel_docs_test)\n",
    "print(np.median(tmp[0]), np.mean(tmp[0]))\n",
    "\n",
    "tmp = get_indexes_of_relevant_documents(model.transform(batch_vectorizer_mono), es_en_parallel_docs_test)\n",
    "print(np.median(tmp[0]), np.mean(tmp[0]))"
   ]
  },
  {
   "cell_type": "markdown",
   "metadata": {},
   "source": [
    "Проведите анализ ошибок. На каких документах модель отработала лучше всего, на каких хуже всего? Как вы думаете почему?"
   ]
  },
  {
   "cell_type": "code",
   "execution_count": null,
   "metadata": {},
   "outputs": [],
   "source": [
    "# Здесь ваш текст про ошибки модели :)"
   ]
  },
  {
   "cell_type": "markdown",
   "metadata": {},
   "source": [
    "## Бонусная часть\n",
    "\n",
    "#### Добавление фоновых тем (до 1 балла)\n",
    "\n",
    "Основной инструмент улучшения качества тематической модели — регуляризация. Выделите часть тем модели как фоновые. Сглаживайте $\\Theta$ для фоновых тем, разреживайте для предметных.\n",
    "\n",
    "Проинтерпретируйте результаты. Фоновые темы должны иметь в качество топ-слов слова фоновой лексики! Удалось ли с помощью введения фоновых тем повысить качество модели?\n",
    "\n",
    "#### Модальность n-грамм (до 2 баллов)\n",
    "\n",
    "Для каждого языка добавьте дополнительную модальность n-грамм. n-граммы можно выделить, например, с помощью пакета Phrases из модуля Gensim. Как отразилось добавление новой модальности на интерпретируемости модели? Удалось ли с помощью введения n-грамм повысить качество модели?"
   ]
  }
 ],
 "metadata": {
  "kernelspec": {
   "display_name": "py3.6",
   "language": "python",
   "name": "other-env"
  },
  "language_info": {
   "codemirror_mode": {
    "name": "ipython",
    "version": 3
   },
   "file_extension": ".py",
   "mimetype": "text/x-python",
   "name": "python",
   "nbconvert_exporter": "python",
   "pygments_lexer": "ipython3",
   "version": "3.6.5"
  }
 },
 "nbformat": 4,
 "nbformat_minor": 4
}
