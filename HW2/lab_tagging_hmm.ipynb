{
  "nbformat": 4,
  "nbformat_minor": 0,
  "metadata": {
    "kernelspec": {
      "display_name": "py3.6",
      "language": "python",
      "name": "other-env"
    },
    "language_info": {
      "codemirror_mode": {
        "name": "ipython",
        "version": 3
      },
      "file_extension": ".py",
      "mimetype": "text/x-python",
      "name": "python",
      "nbconvert_exporter": "python",
      "pygments_lexer": "ipython3",
      "version": "3.6.5"
    },
    "colab": {
      "name": "lab_tagging_hmm.ipynb",
      "provenance": [],
      "collapsed_sections": [],
      "toc_visible": true
    }
  },
  "cells": [
    {
      "cell_type": "markdown",
      "metadata": {
        "id": "Rsi_U9rxw0t1",
        "colab_type": "text"
      },
      "source": [
        "# Практическое задание 2 (часть 1)\n",
        "\n",
        "# Определение частей речи с помощью скрытой марковской модели\n",
        "\n",
        "## курс \"Математические методы анализа текстов\"\n",
        "\n",
        "\n",
        "### ФИО: Хуршудов Артем Эрнестович"
      ]
    },
    {
      "cell_type": "markdown",
      "metadata": {
        "id": "xtyQEjm1w0t4",
        "colab_type": "text"
      },
      "source": [
        "## Введение\n",
        "\n",
        "### Постановка задачи\n",
        "\n",
        "В данной лабораторной работе вам предстоит обучить скрытую марковскую модель на размеченных данных и реализовать алгоритм Витерби для задачи POS-теггинга (определение частей речи слов в тексте), а также ознакомиться с использованием  ряда POS-теггеров из библиотеки NLTK.\n",
        "\n",
        "### Комментарии и советы\n",
        "\n",
        "1. Для выполнения потребуются модули Python numpy, nltk.\n",
        "\n",
        "2. Все необходимые для выполнения задания данные либо приложены, либо могут быть скачаны с помощью nltk.download().\n",
        "\n",
        "3. Посмотреть параметры конструктора и других методов классов можно набрав и выполнив в ячейке с кодом '?full_method_name'.\n",
        "\n",
        "### Задача определения частей речи (POS)\n",
        "\n",
        "Мы будем решать задачу определения частей речи (POS-теггинга) с помощью скрытой марковской модели (HMM). Формула совместной плотности наблюдаемых и скрытых переменных задается как\n",
        "\n",
        "$$ p(x, t) = p(t) p(x|t) = p(t_1)  \\prod_{i=2}^{N_x} p(t_i|t_{i-1}) \\prod_{i=1}^{N_x} p(x_i|t_i)$$\n",
        "\n",
        "#### Переменные модели\n",
        "\n",
        "- наблюдаемые переменные $X$ - словарь корпуса;\n",
        "\n",
        "- скрытые переменные $T$ - множество POS-тегов.\n",
        "\n",
        "- x - одно предложение, $N_x$ - длина предложения\n",
        "\n",
        "- t - теги одного предложения, $N_t$ - длина вектора меток\n",
        "\n",
        "#### Параметры модели\n",
        "\n",
        "- матрица вероятностей переходов $A \\in \\mathbb{R}^{|T| \\times |T|}$, $A_{ij} = p(t_s=i|t_{s-1}=j) \\; \\forall s$\n",
        "\n",
        "- матрица выходных вероятностей $B \\in \\mathbb{R}^{|X| \\times |T|}$, $B_{ij} = p(x_s =i|t_s =j) \\; \\forall s$\n",
        "\n",
        "- вектор начальных вероятностей $C \\in \\mathbb{R}^{|T|}$, $C_i = p(t_1=i)$\n",
        "\n",
        "\n",
        "#### Обучение модели\n",
        "\n",
        "* Для обучения параметров $A$ и $B$ используется метод максимума правдоподобия. Оценки вычисляются на основе частот совстречаемости тегов и тегов со словами ():\n",
        "\n",
        "$$a_{ij} = \\frac{\\sum_{t}\\sum_{s=2}^{N_t} \\mathbb{I}[t_{s} = i, t_{s - 1} = j]}{\\sum_{t}\\sum_{s=2}^{N_t} \\mathbb{I}[t_{s} = j]}$$\n",
        "\n",
        "$$b_{ij} = \\frac{\\sum_{t, x}\\sum_{s=1}^{N_t} \\mathbb{I}[x_{s} = i, t_{s} = j]}{\\sum_{t, x}\\sum_{s=1}^{N_t} \\mathbb{I}[t_{s} = j]}$$\n",
        "\n",
        "* Параметры $C$ можно аналогично вычислять по частотам или считать распределение $p(t_1)$ равномерным"
      ]
    },
    {
      "cell_type": "markdown",
      "metadata": {
        "id": "51QERmG3w0t5",
        "colab_type": "text"
      },
      "source": [
        "#### Применение модели\n",
        "\n",
        "Применение модели на новых данных реализуется с помощью алгоритма Витерби.Это алгоритм динамиеского программирования, с помощью которого мы будем находить наиболее вероятную последовательность скрытых состояний модели для фиксированной последовательности слов:\n",
        "\n",
        "$$ \\hat{t} = \\arg \\max_{t} p(t|x) = \\arg \\max_{t} p(x, t) $$\n",
        "\n",
        "Определим функцию, определяющую максимальную вероятность последовательности, заканчивающейся на $i$-ой позиции в состоянии $k$:\n",
        "\n",
        "$$\\delta(k, i) = \\max_{t_1, \\dots t_{i-1}} p(x_1, \\dots x_i, t_1, \\dots t_i=k)$$\n",
        "\n",
        "Тогда $\\max_{k} \\delta(k, N_x)$ - максимальная вероятность всей последовательности. А состояния, на которых эта вероятность достигается - ответ задачи.\n",
        "\n",
        "Алгоритм Витерби заключается в последовательном пересчете функции $\\delta(k, i)$ по формуле:\n",
        "\n",
        "$$\\delta(k, i) = \\max_{m} \\delta(m, i-1) p(t_i = k|t_{i-1} = m) p(x_i|t_i=k) $$\n",
        "\n",
        "Аналогично пересчитывается функция, определяющая, на каком состоянии этот максимум достигается:\n",
        "\n",
        "$$s(k, i) = \\arg \\max_{m} \\delta(m, i-1) p(t_i = k|t_{i-1} = m) p(x_i|t_i=k) $$\n",
        "\n",
        "\n",
        "На практике это означает заполнение двумерных массивов размерности: (длина последовательности) $\\times$ (количество возможных состояний). Когда массивы заполнены, $\\arg \\max_{k} \\delta(k, N_x)$ говорит о последнем состоянии. Начиная с него можно восстановить все состояния по массиву $s$. \n",
        "\n",
        "Осталось уточнить, как стартовать последовательный пересчет (чем заполнить первый столбец массива вероятностей):\n",
        "\n",
        "$$\\delta(k, 1) = p(k) p(x_1|t_1=k)$$\n",
        "\n",
        "Подробнее о HMM можно прочитать по [ссылке](https://web.stanford.edu/~jurafsky/slp3/A.pdf)"
      ]
    },
    {
      "cell_type": "markdown",
      "metadata": {
        "id": "3cCXowQhw0t7",
        "colab_type": "text"
      },
      "source": [
        "## Часть 1. Загрузка корпуса (1 балл)\n",
        "\n",
        "Загрузите brown корпус с универсальной системой тегирования. Для этого вам понадобятся ресурсы brown и universal_tagset из nltk.download().  \n",
        "\n",
        "Так как каждый конкретный датасет может использовать свою систему тегов, в NLTK предусмотрено универсальное множество тегов и возможность приведения к нему других систем. Это множество включает в себя следующие теги:\n",
        "\n",
        "\n",
        "- ADJ - adjective (new, good, high, ...)\n",
        "- ADP - adposition\t(on, of, at, ...)\n",
        "- ADV - adverb\t(really, already, still, ...)\n",
        "- CONJ\t- conjunction\t(and, or, but, ...)\n",
        "- DET - determiner, article\t(the, a, some, ...)\n",
        "- NOUN\t- noun\t(year, home, costs, ...)\n",
        "- NUM - numeral\t(twenty-four, fourth, 1991, ...)\n",
        "- PRT -\tparticle (at, on, out, ...)\n",
        "- PRON - pronoun (he, their, her, ...)\n",
        "- VERB - verb (is, say, told, ...)\n",
        "- .\t- punctuation marks\t(. , ;)\n",
        "- X\t- other\t(ersatz, esprit, dunno, ...)\n",
        "\n",
        "Обратите внимание, что тегсеты в корпусах текстов и в различных теггерах могут быть разными. Проверять это можно, глядя на сами теги, а симптом - подозрительно низкое качество теггирования. В таких случаях рекомендуется всё приводить сперва к универсальному тегсету, а потом уже мерять качество. Полезной может оказаться эта ссылка http://www.nltk.org/_modules/nltk/tag/mapping.html"
      ]
    },
    {
      "cell_type": "code",
      "metadata": {
        "id": "L6iyXjh5w0t8",
        "colab_type": "code",
        "outputId": "6a03fd46-5caa-4efd-9955-365c4ed64b08",
        "colab": {
          "base_uri": "https://localhost:8080/",
          "height": 122
        }
      },
      "source": [
        "import nltk\n",
        "import numpy as np\n",
        "nltk.download('brown')\n",
        "nltk.download('universal_tagset')\n",
        "\n",
        "from nltk.corpus import brown\n",
        "\n",
        "brown_tagged_sents = brown.tagged_sents(tagset=\"universal\")\n",
        "\n",
        "print(brown_tagged_sents[1])"
      ],
      "execution_count": 0,
      "outputs": [
        {
          "output_type": "stream",
          "text": [
            "[nltk_data] Downloading package brown to /root/nltk_data...\n",
            "[nltk_data]   Unzipping corpora/brown.zip.\n",
            "[nltk_data] Downloading package universal_tagset to /root/nltk_data...\n",
            "[nltk_data]   Unzipping taggers/universal_tagset.zip.\n",
            "[('The', 'DET'), ('jury', 'NOUN'), ('further', 'ADV'), ('said', 'VERB'), ('in', 'ADP'), ('term-end', 'NOUN'), ('presentments', 'NOUN'), ('that', 'ADP'), ('the', 'DET'), ('City', 'NOUN'), ('Executive', 'ADJ'), ('Committee', 'NOUN'), (',', '.'), ('which', 'DET'), ('had', 'VERB'), ('over-all', 'ADJ'), ('charge', 'NOUN'), ('of', 'ADP'), ('the', 'DET'), ('election', 'NOUN'), (',', '.'), ('``', '.'), ('deserves', 'VERB'), ('the', 'DET'), ('praise', 'NOUN'), ('and', 'CONJ'), ('thanks', 'NOUN'), ('of', 'ADP'), ('the', 'DET'), ('City', 'NOUN'), ('of', 'ADP'), ('Atlanta', 'NOUN'), (\"''\", '.'), ('for', 'ADP'), ('the', 'DET'), ('manner', 'NOUN'), ('in', 'ADP'), ('which', 'DET'), ('the', 'DET'), ('election', 'NOUN'), ('was', 'VERB'), ('conducted', 'VERB'), ('.', '.')]\n"
          ],
          "name": "stdout"
        }
      ]
    },
    {
      "cell_type": "markdown",
      "metadata": {
        "id": "rz1qx_B2w0t_",
        "colab_type": "text"
      },
      "source": [
        "Проанализируйте данные, с которыми Вы работаете. В частности, ответьте на вопросы:\n",
        "- Каков общий объем датасета, формат?\n",
        "- Приведены ли слова к нижнему регистру? Чем  это нам может в дальнейшем помешать?\n",
        "- Как распределены слова в корпусе?  Как распределены теги в корпусе? Подсчитайте частоты и отобразите любым удобным для Вас способом. Проинтерпретируйте полученные результаты."
      ]
    },
    {
      "cell_type": "code",
      "metadata": {
        "id": "D_W1-bu8w0uA",
        "colab_type": "code",
        "outputId": "f43c0dcb-bc2c-45e3-e059-f796068849bd",
        "colab": {
          "base_uri": "https://localhost:8080/",
          "height": 71
        }
      },
      "source": [
        "print(\"В датасете %d предложений, %d слов\" % (len(brown_tagged_sents), sum(map(len, brown_tagged_sents))))\n",
        "print(\"Слова не приведены к нижнему регистру. Это может нам помешать приводить слова к векторам, но с другой стороны это дает нам дополнительные признаки\")"
      ],
      "execution_count": 0,
      "outputs": [
        {
          "output_type": "stream",
          "text": [
            "В датасете 57340 предложений, 1161192 слов\n",
            "Слова не приведены к нижнему регистру. Это может нам помешать приводить слова к векторам, но с другой стороны это дает нам дополнительные признаки\n"
          ],
          "name": "stdout"
        }
      ]
    },
    {
      "cell_type": "code",
      "metadata": {
        "id": "_veuMu3Fypwe",
        "colab_type": "code",
        "outputId": "69b102ec-82c0-423f-b9e9-ec3ace5a37e1",
        "colab": {
          "base_uri": "https://localhost:8080/",
          "height": 221
        }
      },
      "source": [
        "from collections import Counter\n",
        "\n",
        "tags_arr = [inner[1]\n",
        "              for outer in brown_tagged_sents\n",
        "                for inner in outer]\n",
        "\n",
        "tags_cnt = Counter(tags_arr)\n",
        "tags_freq = [(el, tags_cnt[el]/len(tags_arr))  for el in tags_cnt]\n",
        "sorted(tags_freq, key=lambda x:x[1], reverse=True)"
      ],
      "execution_count": 0,
      "outputs": [
        {
          "output_type": "execute_result",
          "data": {
            "text/plain": [
              "[('NOUN', 0.23730614747604187),\n",
              " ('VERB', 0.15738138051243894),\n",
              " ('.', 0.12708062060365555),\n",
              " ('ADP', 0.12467016651854301),\n",
              " ('DET', 0.11799857387925511),\n",
              " ('ADJ', 0.0720991877312279),\n",
              " ('ADV', 0.048432128364645985),\n",
              " ('PRON', 0.04248565267414863),\n",
              " ('CONJ', 0.03285503172601947),\n",
              " ('PRT', 0.02568825827253374),\n",
              " ('NUM', 0.01280925118326685),\n",
              " ('X', 0.0011936010582229296)]"
            ]
          },
          "metadata": {
            "tags": []
          },
          "execution_count": 3
        }
      ]
    },
    {
      "cell_type": "code",
      "metadata": {
        "id": "2DEStf1U0vKA",
        "colab_type": "code",
        "outputId": "5dc62a7b-b861-4a31-fadf-5f696ab64029",
        "colab": {
          "base_uri": "https://localhost:8080/",
          "height": 204
        }
      },
      "source": [
        "from collections import Counter\n",
        "\n",
        "words_arr = [inner[0]\n",
        "              for outer in brown_tagged_sents\n",
        "                for inner in outer]\n",
        "\n",
        "words_cnt = Counter(words_arr)\n",
        "words_freq = [(el, words_cnt[el]/len(words_arr))  for el in words_cnt]\n",
        "print(\"top10 most frequent words\")\n",
        "sorted(words_freq, key=lambda x:x[1], reverse=True)[:10]"
      ],
      "execution_count": 0,
      "outputs": [
        {
          "output_type": "stream",
          "text": [
            "top10 most frequent words\n"
          ],
          "name": "stdout"
        },
        {
          "output_type": "execute_result",
          "data": {
            "text/plain": [
              "[('the', 0.05400743374050114),\n",
              " (',', 0.050236308896375446),\n",
              " ('.', 0.042495986882444936),\n",
              " ('of', 0.03107151961088261),\n",
              " ('and', 0.024039952049273505),\n",
              " ('to', 0.022159987323371155),\n",
              " ('a', 0.01884356764428277),\n",
              " ('in', 0.01682409110638034),\n",
              " ('that', 0.008815940860770656),\n",
              " ('is', 0.008621313271190294)]"
            ]
          },
          "metadata": {
            "tags": []
          },
          "execution_count": 4
        }
      ]
    },
    {
      "cell_type": "code",
      "metadata": {
        "id": "PRtV2a_e3r52",
        "colab_type": "code",
        "outputId": "341b93e8-01cc-4e1d-b9de-a053783790af",
        "colab": {
          "base_uri": "https://localhost:8080/",
          "height": 305
        }
      },
      "source": [
        "import matplotlib.pyplot as plt\n",
        "\n",
        "plt.ylabel(\"Total Number of Occurrences\")\n",
        "plt.xlabel(\"Index of word\")\n",
        "plt.loglog(\n",
        "    range(len(words_cnt)),\n",
        "    sorted([words_cnt[el]  for el in words_cnt], reverse=True),\n",
        "  )\n"
      ],
      "execution_count": 0,
      "outputs": [
        {
          "output_type": "execute_result",
          "data": {
            "text/plain": [
              "[<matplotlib.lines.Line2D at 0x7f63c2532ef0>]"
            ]
          },
          "metadata": {
            "tags": []
          },
          "execution_count": 5
        },
        {
          "output_type": "display_data",
          "data": {
            "image/png": "[encoded data removed]",
            "text/plain": [
              "<Figure size 432x288 with 1 Axes>"
            ]
          },
          "metadata": {
            "tags": []
          }
        }
      ]
    },
    {
      "cell_type": "markdown",
      "metadata": {
        "id": "zo_UA04xw0uC",
        "colab_type": "text"
      },
      "source": [
        "Cделайте случайное разбиение выборки на обучение и контроль в отношении 9:1.Если впоследствии обучение моделей будет занимать слишком много времени, работайте с подвыборкой, например, только текстами определенных категорий."
      ]
    },
    {
      "cell_type": "code",
      "metadata": {
        "id": "c7rmgk4Pw0uD",
        "colab_type": "code",
        "outputId": "c6433ce3-b1ac-452a-8990-68594eba40e1",
        "colab": {
          "base_uri": "https://localhost:8080/",
          "height": 34
        }
      },
      "source": [
        "from sklearn.model_selection import train_test_split\n",
        "\n",
        "train, test = train_test_split(brown_tagged_sents, train_size=0.9)\n",
        "print(len(train), len(test))"
      ],
      "execution_count": 0,
      "outputs": [
        {
          "output_type": "stream",
          "text": [
            "51606 5734\n"
          ],
          "name": "stdout"
        }
      ]
    },
    {
      "cell_type": "markdown",
      "metadata": {
        "id": "4-fcaFFzw0uF",
        "colab_type": "text"
      },
      "source": [
        "## Часть 2. Скрытая марковская модель (4 балла) \n",
        "\n",
        "### Метод максимального правдоподобия для обучения модели\n",
        "\n",
        "Требуется построить скрытую марковскую модель (class HiddenMarkovModel) и написать метод fit для настройки всех её параметров с помощью оценок максимального правдоподобия по размеченным данным (последовательности пар слово+тег):\n",
        "\n",
        "- Вероятности переходов между скрытыми состояниями $p(t_i | t_{i - 1})$ посчитайте на основе частот биграмм POS-тегов.\n",
        "\n",
        "- Вероятности эмиссий наблюдаемых состояний $p(x_i | t_i)$ посчитайте на основе частот \"POS-тег - слово\".\n",
        "\n",
        "- Обратите внимание на проблему разреженности счетчиков и сделаейте все вероятности сглаженными по Лапласу ([add-k smoothing](https://en.wikipedia.org/wiki/Additive_smoothing)).\n",
        "\n",
        "- Распределение вероятностей начальных состояний $p(t_1)$ задайте равномерным.\n",
        "\n",
        "\n",
        "### Алгоритм Витерби для применения модели\n",
        "\n",
        "Требуется написать метод .predict для определения частей речи на тестовой выборке. Чтобы использовать обученную модель на новых данных, необходимо реализовать алгоритм Витерби. \n",
        "\n",
        "В реализации рекомендуется перейти к логарифмам, т.к. произведение большого числа маленьких вероятностей может приводить к вычислительным ошибкам."
      ]
    },
    {
      "cell_type": "code",
      "metadata": {
        "id": "-L18Yd4Cw0uI",
        "colab_type": "code",
        "colab": {}
      },
      "source": [
        "class HiddenMarkovModel:    \n",
        "    def __init__(self, k_smoothing=1.0):\n",
        "        \"\"\"\n",
        "        k_smoothing : float, constant in add-k-smoothing\n",
        "        \"\"\"\n",
        "        self.k_smoothing = k_smoothing\n",
        "        \n",
        "    def fit(self, train_tokens_tags_list):\n",
        "        \"\"\"\n",
        "        Fit the model using maximum likelihood method.\n",
        "        \n",
        "        train_tokens_tags_list: list of list of pairs (token, tag) \n",
        "        \"\"\"\n",
        "        # A = |T|x|T|\n",
        "        tags_arr = [inner[1]\n",
        "              for outer in brown_tagged_sents\n",
        "                for inner in outer]\n",
        "        self.tags_set = set(tags_arr)\n",
        "\n",
        "        self.A = np.array([[0 for _ in range(len(self.tags_set))] for _ in range(len(self.tags_set))])\n",
        "\n",
        "        self.tag_to_idx = {}\n",
        "        self.idx_to_tag = {}\n",
        "        for idx, el in enumerate(self.tags_set):\n",
        "          self.tag_to_idx[el] = idx\n",
        "          self.idx_to_tag[idx] = el\n",
        "\n",
        "\n",
        "        # B = |X|x|T|\n",
        "        words_arr = [inner[0].lower()\n",
        "              for outer in brown_tagged_sents\n",
        "                for inner in outer]\n",
        "        self.words_set = set(words_arr)\n",
        "        self.B = np.array([[0 for _ in range(len(self.tags_set))] for _ in range(len(self.words_set))])\n",
        "\n",
        "        self.word_to_idx = {}\n",
        "        self.idx_to_word = {}\n",
        "        for idx, el in enumerate(self.words_set):\n",
        "          self.word_to_idx[el] = idx\n",
        "          self.idx_to_word[idx] = el\n",
        "\n",
        "        for sent in train_tokens_tags_list:\n",
        "          for i in range(len(sent)):\n",
        "            cur_tag = sent[i][1]\n",
        "            cur_word = sent[i][0].lower()\n",
        "            if i >= 1:\n",
        "              prev_tag = sent[i-1][1]\n",
        "              self.A[self.tag_to_idx[cur_tag]][self.tag_to_idx[prev_tag]] += 1\n",
        "            self.B[self.word_to_idx[cur_word]][self.tag_to_idx[cur_tag]] += 1\n",
        "\n",
        "        self.B = self.B + self.k_smoothing\n",
        "        self.B = self.B / self.B.sum(axis=1)[:,None]\n",
        "        self.A = self.A / self.A.sum(axis=1)[:,None]\n",
        "        self.B[np.isnan(self.B)] = 0\n",
        "        \n",
        "    \n",
        "    def predict(self, test_tokens_list):\n",
        "        \"\"\"\n",
        "        Return predictions for test_tokens_list using viterbi algorithm.\n",
        "        \n",
        "        test_tokens_list : list of list of tokens\n",
        "        \n",
        "        return: list of list of tags\n",
        "        \"\"\"\n",
        "        all_tags = []\n",
        "        for sent in test_tokens_list:\n",
        "          tags = []\n",
        "\n",
        "          prev_probs = [0] * len(self.tags_set)\n",
        "          for el in self.idx_to_tag:\n",
        "            prev_probs[el] += self.B[self.word_to_idx[sent[0].lower()]][el]\n",
        "            first_tag = self.idx_to_tag[np.argmax(prev_probs)]\n",
        "\n",
        "          tags.append(np.argmax(prev_probs))\n",
        "\n",
        "          for idx in range(1, len(sent)):\n",
        "            cur_probs = [0] * len(self.tags_set)\n",
        "            for k in self.idx_to_tag:\n",
        "              tmp_arr = []\n",
        "              for m in self.idx_to_tag:\n",
        "                tmp = np.log((prev_probs[m])) + \\\n",
        "                      np.log((self.A[k][m])) + \\\n",
        "                      np.log((self.B[self.word_to_idx[sent[idx].lower()]][k]))\n",
        "                tmp_arr.append(tmp)\n",
        "              cur_probs[k] = max(tmp_arr)\n",
        "            tags.append(np.argmax(cur_probs))\n",
        "          prev_probs = np.copy(cur_probs)\n",
        "\n",
        "          all_tags.append([self.idx_to_tag[el] for el in tags])\n",
        "          \n",
        "        return all_tags"
      ],
      "execution_count": 0,
      "outputs": []
    },
    {
      "cell_type": "markdown",
      "metadata": {
        "id": "WwNXJ-d4w0uM",
        "colab_type": "text"
      },
      "source": [
        "Обучите скрытую марковскую модель:"
      ]
    },
    {
      "cell_type": "code",
      "metadata": {
        "id": "mUzO51nCw0uN",
        "colab_type": "code",
        "outputId": "58f1f38f-0fa5-4e15-8065-71468b99bb79",
        "colab": {
          "base_uri": "https://localhost:8080/",
          "height": 51
        }
      },
      "source": [
        "%%time\n",
        "hmm = HiddenMarkovModel(0.05)\n",
        "hmm.fit(train)"
      ],
      "execution_count": 0,
      "outputs": [
        {
          "output_type": "stream",
          "text": [
            "CPU times: user 9.97 s, sys: 276 ms, total: 10.3 s\n",
            "Wall time: 10.3 s\n"
          ],
          "name": "stdout"
        }
      ]
    },
    {
      "cell_type": "markdown",
      "metadata": {
        "id": "0ECq4Mx-w0uR",
        "colab_type": "text"
      },
      "source": [
        "Проверьте работу реализованного алгоритма на следующих модельных примерах, проинтерпретируйте результат.\n",
        "\n",
        "- 'he can stay'\n",
        "- 'a milk can'\n",
        "- 'i saw a dog'\n",
        "- 'an old saw'"
      ]
    },
    {
      "cell_type": "code",
      "metadata": {
        "id": "oXyVoVGWw0uR",
        "colab_type": "code",
        "outputId": "8a8ee221-e468-496e-8743-1ad2b73269b6",
        "colab": {
          "base_uri": "https://localhost:8080/",
          "height": 85
        }
      },
      "source": [
        "hmm.predict([\n",
        "    ['he', 'can', 'stay'],\n",
        "    ['a', 'milk', 'can'],\n",
        "    ['i', 'saw', 'a', 'dog'],\n",
        "    ['an', 'old', 'saw']\n",
        "])"
      ],
      "execution_count": 0,
      "outputs": [
        {
          "output_type": "execute_result",
          "data": {
            "text/plain": [
              "[['PRON', 'VERB', 'VERB'],\n",
              " ['DET', 'NOUN', 'VERB'],\n",
              " ['PRON', 'VERB', 'DET', 'NOUN'],\n",
              " ['DET', 'ADJ', 'VERB']]"
            ]
          },
          "metadata": {
            "tags": []
          },
          "execution_count": 51
        }
      ]
    },
    {
      "cell_type": "markdown",
      "metadata": {
        "id": "ghOxrTDOw0uT",
        "colab_type": "text"
      },
      "source": [
        "Примените модель к отложенной выборке Брауновского корпуса и подсчитайте точность определения тегов (accuracy). Сделайте выводы. "
      ]
    },
    {
      "cell_type": "code",
      "metadata": {
        "id": "bvku1hwRw0uU",
        "colab_type": "code",
        "outputId": "d6e2cd44-acb4-47fd-dbec-19c903c117df",
        "colab": {
          "base_uri": "https://localhost:8080/",
          "height": 51
        }
      },
      "source": [
        "%%time\n",
        "\n",
        "test_X = []\n",
        "test_y = []\n",
        "\n",
        "for sent in test:\n",
        "  test_X.append([el[0] for el in sent])\n",
        "  test_y.append([el[1] for el in sent])\n",
        "  \n",
        "pred_y = hmm.predict(test_X)"
      ],
      "execution_count": 0,
      "outputs": [
        {
          "output_type": "stream",
          "text": [
            "CPU times: user 1min 26s, sys: 148 ms, total: 1min 26s\n",
            "Wall time: 1min 26s\n"
          ],
          "name": "stdout"
        }
      ]
    },
    {
      "cell_type": "code",
      "metadata": {
        "id": "ensp5B09ShJQ",
        "colab_type": "code",
        "outputId": "64948353-7f1f-48fc-a3ed-c55b2dcd4504",
        "colab": {
          "base_uri": "https://localhost:8080/",
          "height": 34
        }
      },
      "source": [
        "pred_y = np.array([item for sublist in pred_y for item in sublist])\n",
        "test_y = np.array([item for sublist in test_y for item in sublist])\n",
        "print(sum(pred_y == test_y) / len(pred_y))"
      ],
      "execution_count": 0,
      "outputs": [
        {
          "output_type": "stream",
          "text": [
            "0.9191163830153\n"
          ],
          "name": "stdout"
        }
      ]
    },
    {
      "cell_type": "code",
      "metadata": {
        "id": "BWrXkyZKXBFT",
        "colab_type": "code",
        "colab": {}
      },
      "source": [
        "# without smoothing \n",
        "0.9136579603169812\n",
        "# with smoothing 1.0\n",
        "0.8802266122843173\n",
        "# with smoothing 0.1\n",
        "0.9133820245065492\n",
        "# with smoothing \n",
        "0.9192321653903994"
      ],
      "execution_count": 0,
      "outputs": []
    },
    {
      "cell_type": "markdown",
      "metadata": {
        "id": "sIjkoa2_w0uX",
        "colab_type": "text"
      },
      "source": [
        "## Бонусная часть. Сравнение с готовыми POS-теггерами из NLTK (2 балла)"
      ]
    },
    {
      "cell_type": "markdown",
      "metadata": {
        "id": "DIgGEaNqw0uY",
        "colab_type": "text"
      },
      "source": [
        "В прошлом пункте Вы реализовали свой POS-тегер на основе скрытой марковской модели. Теперь сравните его работу с готовыми средставми, доступными в библиотеке NLTK: http://www.nltk.org/api/nltk.tag.html\n",
        "\n",
        "Сравните с вашей моделью любые из 4-х теггеров, представленных ниже."
      ]
    },
    {
      "cell_type": "markdown",
      "metadata": {
        "id": "PMdkcUVUw0ua",
        "colab_type": "text"
      },
      "source": [
        "При проведении экспериментов обращайте внимание на следующие моменты (и отразите их в отчете):\n",
        "- Какой подход лежит в основе теггера\n",
        "- На каких данных он обучен (если Вы скачали готовую модель)\n",
        "- Сколько времени занимает обучение на brown корпусе (если обучаете сами)\n",
        "- Какая точность получается на контролькой выборке\n",
        "\n",
        "Сформируйте рекоммендиции о том, какую технологию Вы бы использовали, если встретитесь с задачей определения частей речи в будущем."
      ]
    },
    {
      "cell_type": "code",
      "metadata": {
        "id": "sWmykuJ-w0ub",
        "colab_type": "code",
        "colab": {}
      },
      "source": [
        "import nltk\n",
        "from nltk.tag.mapping import map_tag"
      ],
      "execution_count": 0,
      "outputs": []
    },
    {
      "cell_type": "markdown",
      "metadata": {
        "id": "yodXtWxZw0ud",
        "colab_type": "text"
      },
      "source": [
        "### 1. DefaultTagger\n",
        "Простая заглушка, ставящая всем словам один и тот же pos-тег. Очевидно, для максимизации качества, мы хотим выбрать самую частотную метку из всех меток обучающей выборки, т.е. метку 'NOUN'."
      ]
    },
    {
      "cell_type": "code",
      "metadata": {
        "id": "quYqyCkmw0ud",
        "colab_type": "code",
        "outputId": "bbf1940e-2918-44fe-96c4-982bf1a93754",
        "colab": {
          "base_uri": "https://localhost:8080/",
          "height": 34
        }
      },
      "source": [
        "from nltk.tag import DefaultTagger\n",
        "default_tagger = DefaultTagger(u'NOUN')\n",
        "\n",
        "print('train:', default_tagger.evaluate(brown_tagged_sents))"
      ],
      "execution_count": 0,
      "outputs": [
        {
          "output_type": "stream",
          "text": [
            "train: 0.23730614747604187\n"
          ],
          "name": "stdout"
        }
      ]
    },
    {
      "cell_type": "markdown",
      "metadata": {
        "id": "D3mwVyPkw0ue",
        "colab_type": "text"
      },
      "source": [
        "### 2. RegexpTagger\n",
        "\n",
        "Теггер, который присваивает слову часть речи, основываясь на регулярных выражениях. Например, ставить слову метку 'NOUN', если слово кончается на 'ness'. Ниже приведен простой пример возможных правил. В качестве backoff теггера использован DefaultTagger.\n",
        "\n"
      ]
    },
    {
      "cell_type": "code",
      "metadata": {
        "id": "z7_TtPmWw0uf",
        "colab_type": "code",
        "outputId": "5ae3a4ce-e29c-4d82-be24-550bb1b69769",
        "colab": {
          "base_uri": "https://localhost:8080/",
          "height": 34
        }
      },
      "source": [
        "from nltk.tag import RegexpTagger\n",
        "\n",
        "regexp_tagger = RegexpTagger(regexps=[(r'^-?[0-9]+(.[0-9]+)?$', 'CD'),   # cardinal numbers\n",
        "                                      (r'(The|the|A|a|An|an)$', 'AT'),   # articles\n",
        "                                      (r'.*able$', 'JJ'),                # adjectives\n",
        "                                      (r'.*ness$', 'NN'),                # nouns formed from adjectives\n",
        "                                      (r'.*ly$', 'RB'),                  # adverbs\n",
        "                                      (r'.*s$', 'NNS'),                  # plural nouns\n",
        "                                      (r'.*ing$', 'VBG'),                # gerunds\n",
        "                                      (r'.*ed$', 'VBD'),                 # past tense verbs\n",
        "                                      (r'.*', 'NN')                      # nouns (default)\n",
        "                                     ],\n",
        "                             backoff=default_tagger)\n",
        "\n",
        "# your code here\n",
        "# use map_tag() to tranform 'en-ptb' to 'universal' tags.\n",
        "X = [[el[0] for el in sent] \n",
        "     for sent in brown_tagged_sents]\n",
        "\n",
        "pred_all = regexp_tagger.tag_sents(X)\n",
        "\n",
        "pred = [map_tag('en-ptb', 'universal', el[1]) for sent in pred_all\n",
        "        for el in sent]\n",
        "\n",
        "true = [el[1] for sent in brown_tagged_sents\n",
        "        for el in sent]\n",
        "\n",
        "sum([pred[i] == true[i] for i in range(len(true))])/len(true)"
      ],
      "execution_count": 0,
      "outputs": [
        {
          "output_type": "execute_result",
          "data": {
            "text/plain": [
              "0.30036893123617797"
            ]
          },
          "metadata": {
            "tags": []
          },
          "execution_count": 47
        }
      ]
    },
    {
      "cell_type": "markdown",
      "metadata": {
        "id": "hUsMl-wmw0ug",
        "colab_type": "text"
      },
      "source": [
        "### 3. N-грамные теггеры\n",
        "\n",
        "В теггерах, основанных на n-граммах,  принятие решения происходит в зависимости от $n-1$ предыдущих слов и их тегов. Эти теггеры необходимо обучать по размеченной обучающей коллекции. \n",
        "\n",
        "Заметим, что TrigramTagger и BigramTagger работают очень плохо без указания backoff. Поэтому предлагается построить композицию, где \n",
        "в качестве backoff для UnigramTagger использовать DefaultTagger, для BigramTagger использовать UnigramTagger, для TrigramTagger  использовать BigramTagger. "
      ]
    },
    {
      "cell_type": "code",
      "metadata": {
        "id": "tlh7Q0gxw0ug",
        "colab_type": "code",
        "outputId": "7583ebee-1dc1-4c35-af19-3b69df7eb2d8",
        "colab": {
          "base_uri": "https://localhost:8080/",
          "height": 170
        }
      },
      "source": [
        "from nltk.tag import UnigramTagger\n",
        "from nltk.tag import BigramTagger\n",
        "from nltk.tag import TrigramTagger\n",
        "\n",
        "u_tagger = UnigramTagger(train, backoff=default_tagger)\n",
        "print('UnigramTagger')\n",
        "print('train:', u_tagger.evaluate(train))\n",
        "print('test:', u_tagger.evaluate(test))\n",
        "\n",
        "b_tagger = BigramTagger(train, backoff=u_tagger)\n",
        "print('BigramTagger')\n",
        "print('train:', b_tagger.evaluate(train))\n",
        "print('test:', b_tagger.evaluate(test))\n",
        "\n",
        "t_tagger = TrigramTagger(train, backoff=b_tagger)\n",
        "print('TrigramTagger')\n",
        "print('train:', t_tagger.evaluate(train))\n",
        "print('test:', t_tagger.evaluate(test))"
      ],
      "execution_count": 0,
      "outputs": [
        {
          "output_type": "stream",
          "text": [
            "UnigramTagger\n",
            "train: 0.9571039726200458\n",
            "test: 0.9461320268179474\n",
            "BigramTagger\n",
            "train: 0.9691429982428134\n",
            "test: 0.9544180849235001\n",
            "TrigramTagger\n",
            "train: 0.9728736701465853\n",
            "test: 0.954039883101255\n"
          ],
          "name": "stdout"
        }
      ]
    },
    {
      "cell_type": "markdown",
      "metadata": {
        "id": "Lqc88AHTw0ui",
        "colab_type": "text"
      },
      "source": [
        "### 4. Stanford tagger\n",
        "\n",
        "Скачайте предобученную модель от Стэнфорда: https://nlp.stanford.edu/software/tagger.shtml и примените к тестовым данным. \n",
        "Не забудьте преобразовать систему тэгов из 'en-ptb' в 'universal' с помощью функции map_tag."
      ]
    },
    {
      "cell_type": "code",
      "metadata": {
        "id": "a01miLSDw0ui",
        "colab_type": "code",
        "outputId": "8b576898-8214-472e-99c1-773c411fdf48",
        "colab": {
          "base_uri": "https://localhost:8080/",
          "height": 102
        }
      },
      "source": [
        "from nltk.tag.stanford import StanfordPOSTagger\n",
        "\n",
        "# Add the jar and model via their path:\n",
        "jar = 'stanford-postagger-3.9.2.jar'\n",
        "model = 'english-bidirectional-distsim.tagger'\n",
        "stanford_tagger = StanfordPOSTagger(model, jar, encoding='utf8')\n",
        "\n",
        "X = [[el[0] for el in sent] \n",
        "     for sent in brown_tagged_sents]\n",
        "\n",
        "pred_all = stanford_tagger.tag_sents(X)\n",
        "\n",
        "pred = [map_tag('en-ptb', 'universal', el[1]) for sent in pred_all\n",
        "        for el in sent]\n",
        "\n",
        "true = [el[1] for sent in brown_tagged_sents\n",
        "        for el in sent]\n",
        "\n",
        "sum([pred[i] == true[i] for i in range(len(true))])/len(true)"
      ],
      "execution_count": 0,
      "outputs": [
        {
          "output_type": "stream",
          "text": [
            "/usr/local/lib/python3.6/dist-packages/nltk/tag/stanford.py:149: DeprecationWarning: \n",
            "The StanfordTokenizer will be deprecated in version 3.2.5.\n",
            "Please use \u001b[91mnltk.tag.corenlp.CoreNLPPOSTagger\u001b[0m or \u001b[91mnltk.tag.corenlp.CoreNLPNERTagger\u001b[0m instead.\n",
            "  super(StanfordPOSTagger, self).__init__(*args, **kwargs)\n"
          ],
          "name": "stderr"
        },
        {
          "output_type": "execute_result",
          "data": {
            "text/plain": [
              "0.9249745089528691"
            ]
          },
          "metadata": {
            "tags": []
          },
          "execution_count": 48
        }
      ]
    },
    {
      "cell_type": "markdown",
      "metadata": {
        "id": "MIupDtHaw0uk",
        "colab_type": "text"
      },
      "source": [
        "### 5. Теггеры из NLTK на основе графических моделей\n",
        "\n",
        "Обучите теггер, основанный на HMM или CRF, на основе класса из nltk."
      ]
    },
    {
      "cell_type": "code",
      "metadata": {
        "id": "yFZ_4WP3w0ul",
        "colab_type": "code",
        "colab": {}
      },
      "source": [
        "from nltk.tag import HiddenMarkovModelTagger, CRFTagger"
      ],
      "execution_count": 0,
      "outputs": []
    },
    {
      "cell_type": "markdown",
      "metadata": {
        "id": "896AusBuw0um",
        "colab_type": "text"
      },
      "source": [
        "### Сравнение моделей\n",
        "\n",
        "Сравните различные модели по качеству, сделайте выводы."
      ]
    },
    {
      "cell_type": "code",
      "metadata": {
        "id": "fsW6hSiBw0um",
        "colab_type": "code",
        "colab": {}
      },
      "source": [
        "# my HMM without smoothing \n",
        "0.9136579603169812\n",
        "# my HMM with smoothing 1.0\n",
        "0.8802266122843173\n",
        "# my HMM with smoothing 0.1\n",
        "0.9133820245065492\n",
        "# my HMM with smoothing 0.05\n",
        "0.9191163830153\n",
        "\n",
        "Очевидно, что это очень \"не умный\" тегер\n",
        "# DefaultTagger\n",
        "0.23730614747604187\n",
        "\n",
        "Этот тегер чуть умнее, но очевидно, что регулярными выражениями очень сложно отловить все зависимости.\n",
        "# RegExpTagger\n",
        "0.30036893123617797\n",
        "\n",
        "Этот тегер учитывает контекст размером 1, то есть для предсказывания тэга слова используется предыдещее слово.\n",
        "# UnigramTagger\n",
        "train: 0.9571039726200458\n",
        "test: 0.9461320268179474\n",
        "  \n",
        "Этот тегер учитывает контекст размером 2, то есть для предсказывания тэга слова используются 2 предыдещих слово.\n",
        "# BigramTagger\n",
        "train: 0.9691429982428134\n",
        "test: 0.9544180849235001\n",
        "  \n",
        "Этот тегер учитывает контекст размером 2, то есть для предсказывания тэга слова используются 3 предыдещих слово.\n",
        "# TrigramTagger\n",
        "train: 0.9728736701465853\n",
        "test: 0.954039883101255\n",
        "  \n",
        "Так как мы добавили параметр backoff, то при отказе классификации жтим тэгером используется тот, который в указан.\n",
        "  \n",
        "Основные идеи: \n",
        "  1. явное использование как предшествующего, так и последующего текстовых тегов через сетевое представление зависимостей\n",
        "  2. широкое использование лексических признаков\n",
        "  3. эффективное использование логлинейный моделей\n",
        "  4. детальная обработка неизвестных слов.\n",
        "\n",
        "# StanfordTagger\n",
        "0.9249745089528691"
      ],
      "execution_count": 0,
      "outputs": []
    }
  ]
}