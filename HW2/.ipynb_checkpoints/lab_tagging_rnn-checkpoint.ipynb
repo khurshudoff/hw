{
 "cells": [
  {
   "cell_type": "markdown",
   "metadata": {
    "collapsed": true
   },
   "source": [
    "# Практическое задание 2 (часть 2)\n",
    "\n",
    "# Распознавание именованных сущностей из Twitter с помощью LSTM\n",
    "\n",
    "## курс \"Математические методы анализа текстов\"\n",
    "\n",
    "\n",
    "### ФИО: <впишите>"
   ]
  },
  {
   "cell_type": "markdown",
   "metadata": {},
   "source": [
    "## Введение\n",
    "\n",
    "### Постановка задачи\n",
    "\n",
    "В этом задании вы будете использовать рекуррентные нейронные сети для решения проблемы распознавания именованных сущностей (NER). Примерами именованных сущностей являются имена людей, названия организаций, адреса и т.д. В этом задании вы будете работать с данными twitter.\n",
    "\n",
    "Например, вы хотите извлечь имена и названия организаций. Тогда для текста\n",
    "\n",
    "    Yan Goodfellow works for Google Brain\n",
    "\n",
    "модель должна извлечь следующую последовательность:\n",
    "\n",
    "    B-PER I-PER    O     O   B-ORG  I-ORG\n",
    "\n",
    "где префиксы *B-* и *I-* означают начало и конец именованной сущности, *O* означает слово без тега. Такая префиксная система введена, чтобы различать последовательные именованные сущности одного типа.\n",
    "\n",
    "Решение этого задания будет основано на нейронных сетях, а именно на Bi-Directional Long Short-Term Memory Networks (Bi-LSTMs).\n",
    "\n",
    "### Библиотеки\n",
    "\n",
    "Для этого задания вам понадобятся следующие библиотеки:\n",
    " - [Pytorch](https://pytorch.org/).\n",
    " - [Numpy](http://www.numpy.org).\n",
    " \n",
    "### Данные\n",
    "\n",
    "Все данные содержатся в папке `./data`: `./data/train.txt`, `./data/validation.txt`, `./data/test.txt`.\n",
    "\n",
    "Скачать архив можно здесь: [ссылка на google диск](https://drive.google.com/open?id=1s1rFOFMZTBqtJuQDcIvW-8djA78iUDcx)"
   ]
  },
  {
   "cell_type": "code",
   "execution_count": null,
   "metadata": {},
   "outputs": [],
   "source": [
    "import numpy as np\n",
    "\n",
    "import torch\n",
    "import torch.nn as nn\n",
    "import torch.optim as optim"
   ]
  },
  {
   "cell_type": "markdown",
   "metadata": {},
   "source": [
    "## Часть 1. Подготовка данных (2 балла)\n",
    "\n",
    "### Загрузка данных\n",
    "\n",
    "Мы будем работать с данными, которые содержат твиты с тегами именованных сущностей. Каждая строка файла содержит пару токен(слово или пунктуация) и тег, разделенные пробелом. Различные твиты разделены пустой строкой.\n",
    "\n",
    "Функция *read_data* считывает корпус из *file_path* и возвращает два списка: один с токенами и один с соответствующими токенам тегами. Также она заменяет все ники (токены, которые начинаются на символ *@*) на токен `<USR>` и url-ы (токены, которые начинаются на *http://* или *https://*) на токен `<URL>`. \n",
    "\n",
    "Вам необходимо реализовать эту функцию."
   ]
  },
  {
   "cell_type": "code",
   "execution_count": null,
   "metadata": {
    "collapsed": true
   },
   "outputs": [],
   "source": [
    "def read_data(file_path):\n",
    "    tokens = []\n",
    "    tags = []\n",
    "\n",
    "    ######################################\n",
    "    ######### YOUR CODE HERE #############\n",
    "    ######################################\n",
    "    \n",
    "    return tokens, tags"
   ]
  },
  {
   "cell_type": "markdown",
   "metadata": {},
   "source": [
    "Теперь мы можем загрузить 3 части данных:\n",
    " - *train* для тренировки модели;\n",
    " - *validation* для валидации и подбора гиперпараметров;\n",
    " - *test* для финального тестирования."
   ]
  },
  {
   "cell_type": "code",
   "execution_count": null,
   "metadata": {
    "collapsed": true
   },
   "outputs": [],
   "source": [
    "train_tokens, train_tags = read_data('data/train.txt')\n",
    "validation_tokens, validation_tags = read_data('data/validation.txt')\n",
    "test_tokens, test_tags = read_data('data/test.txt')"
   ]
  },
  {
   "cell_type": "markdown",
   "metadata": {},
   "source": [
    "Всегда полезно знать, с какими данными вы работаете. Выведем небольшую часть."
   ]
  },
  {
   "cell_type": "code",
   "execution_count": null,
   "metadata": {
    "collapsed": true
   },
   "outputs": [],
   "source": [
    "for i in range(3):\n",
    "    for token, tag in zip(train_tokens[i], train_tags[i]):\n",
    "        print('%s\\t%s' % (token, tag))\n",
    "    print()"
   ]
  },
  {
   "cell_type": "markdown",
   "metadata": {},
   "source": [
    "### Подготовка словарей\n",
    "\n",
    "Чтобы обучать нейронную сеть, мы будем использовать два отображения.\n",
    "\n",
    "- {token}$\\to${token id}: устанавливает соответствие между токеном и строкой в embedding матрице;\n",
    "- {tag}$\\to${tag id}: one hot encoding тегов.\n",
    "\n",
    "\n",
    "Теперь вам необходимо реализовать функцию *build_dict*, которая должна возвращать словарь {token or tag}$\\to${index} и контейнер, задающий обратное отображение."
   ]
  },
  {
   "cell_type": "code",
   "execution_count": null,
   "metadata": {
    "collapsed": true
   },
   "outputs": [],
   "source": [
    "from collections import defaultdict"
   ]
  },
  {
   "cell_type": "code",
   "execution_count": null,
   "metadata": {
    "collapsed": true
   },
   "outputs": [],
   "source": [
    "def build_dict(tokens_or_tags, special_tokens):\n",
    "    \"\"\"\n",
    "    tokens_or_tags: a list of lists of tokens or tags\n",
    "    special_tokens: some special tokens\n",
    "    \"\"\"\n",
    "    # Create a dictionary with default value 0\n",
    "    tok2idx = defaultdict(lambda: 0)\n",
    "    idx2tok = []\n",
    "    \n",
    "    # Create mappings from tokens to indices and vice versa\n",
    "    # Add special tokens to dictionaries\n",
    "    # The first special token must have index 0\n",
    "\n",
    "    ######################################\n",
    "    ######### YOUR CODE HERE #############\n",
    "    ######################################\n",
    "    \n",
    "    return tok2idx, idx2tok"
   ]
  },
  {
   "cell_type": "markdown",
   "metadata": {},
   "source": [
    "После реализации функции *build_dict* вы можете создать словари для токенов и тегов. В нашем случае специальными токенами будут:\n",
    " - `<UNK>` токен для обозначаения слов, которых нет в словаре;\n",
    " - `<PAD>` токен для дополнения предложений одного батча до одинаковой длины."
   ]
  },
  {
   "cell_type": "code",
   "execution_count": null,
   "metadata": {
    "collapsed": true
   },
   "outputs": [],
   "source": [
    "special_tokens = ['<UNK>', '<PAD>']\n",
    "special_tags = ['O']\n",
    "\n",
    "# Create dictionaries \n",
    "token2idx, idx2token = build_dict(train_tokens + validation_tokens, special_tokens)\n",
    "tag2idx, idx2tag = build_dict(train_tags, special_tags)"
   ]
  },
  {
   "cell_type": "markdown",
   "metadata": {},
   "source": [
    "### Генератор батчей\n",
    "\n",
    "Обычно нейронные сети обучаются батчами. Это означает, что каждое обновление весов нейронной сети происходит на основе нескольких последовательностей. Технической деталью является необходимость дополнить все последовательности внутри батча до одной длины. Для некоторых фреймворков (таких как tensorflow) это необходимо сделать до подачи батча в нейронную сеть. В случае с pytorch это можно сделать как вне архитектуры нейронной сети, так и внутри. Мы выбрали более универсальный вариант и наш генератор батчей дополняет все последовательности внутри одного батча до одной длины.\n",
    "\n",
    "Генератор батчей разбивает последовательность входных предложений и тегов на батчи размера batch_size. Размер последнего батча может быть меньше, если allow_smaller_last_batch is True, иначе последний батч исключается из генератора. Если включён параметр shuffle, данные перед разделением на батчи будут перемешаны. "
   ]
  },
  {
   "cell_type": "code",
   "execution_count": null,
   "metadata": {
    "collapsed": true
   },
   "outputs": [],
   "source": [
    "def batches_generator(batch_size, tokens_idxs, tags_idxs,\n",
    "                      shuffle=True, allow_smaller_last_batch=True, device='cpu'):\n",
    "    \"\"\"\n",
    "    Generates padded batches of tags_idxs and tags_idxs.\n",
    "    \n",
    "    batch_size : int, number of objects in one batch\n",
    "    tokens_idxs : list of list of int\n",
    "    tags_idxs : list of list of int\n",
    "    shuffle : bool\n",
    "    allow_smaller_last_batch : bool\n",
    "    device: str, cpu or cuda:x\n",
    "    \n",
    "    yield x, y: torch.LongTensor and torch.LongTensor\n",
    "    x - batch of tokens_idxs, y - batch of tags_idxs\n",
    "    \"\"\"\n",
    "    n_samples = len(tokens_idxs)\n",
    "    \n",
    "    # Shuffle data if shuffle is True.\n",
    "    # Don't modify the original tokens and tags!\n",
    "    \n",
    "    ######################################\n",
    "    ######### YOUR CODE HERE #############\n",
    "    ######################################\n",
    "    \n",
    "    # Get the number of batches\n",
    "    # n_batches =  ### YOUR CODE HERE ###\n",
    "    \n",
    "    # For each k yield pair x and y\n",
    "    for k in range(n_batches):\n",
    "        \n",
    "        ######################################\n",
    "        ######### YOUR CODE HERE #############\n",
    "        ######################################        \n",
    "        \n",
    "        x = x.long().to(device)\n",
    "        y = y.long().to(device)\n",
    "        \n",
    "        yield x, y"
   ]
  },
  {
   "cell_type": "markdown",
   "metadata": {},
   "source": [
    "Протестируйте ваш генератор батчей:"
   ]
  },
  {
   "cell_type": "code",
   "execution_count": null,
   "metadata": {},
   "outputs": [],
   "source": [
    "test_nonrandom_batch_generator = batches_generator(\n",
    "    batch_size=3,\n",
    "    tokens_idxs=train_idxs[:7],\n",
    "    tags_idxs=train_tag_idxs[:7],\n",
    "    shuffle=False,\n",
    "    allow_smaller_last_batch=True\n",
    ")\n",
    "\n",
    "batch_lengths = [3, 3, 1]\n",
    "sequence_lengths = [26, 25, 8]\n",
    "some_pad_tensor = torch.LongTensor([token2idx['<PAD>']] * 12)\n",
    "some_outside_tensor = torch.LongTensor([tag2idx['O'] * 12])\n",
    "\n",
    "for i, (tokens_batch, tags_batch) in enumerate(test_nonrandom_batch_generator):\n",
    "    assert tokens_batch.dtype == torch.int64, 'tokens_batch is not LongTensor'\n",
    "    assert tags_batch.dtype == torch.int64, 'tags_batch is not LongTensor'\n",
    "    \n",
    "    assert len(tokens_batch) == batch_lengths[i], 'wrong batch length'\n",
    "    \n",
    "    for one_token_sequence in tokens_batch:\n",
    "        assert len(one_token_sequence) == sequence_lengths[i], 'wrong length of sequence in batch'\n",
    "    \n",
    "    if i == 0:\n",
    "        assert torch.all(tokens_batch[2][-12:] == some_pad_tensor), \"wrong padding\"       \n",
    "        assert torch.all(tags_batch[2][-12:] == some_outside_tensor), \"wrong O tag\""
   ]
  },
  {
   "cell_type": "markdown",
   "metadata": {},
   "source": [
    "## Часть 2. BiLSTM (3 балла)\n",
    "\n",
    "Определите архитектуру сети, используя библиотеку pytorch. \n",
    "\n",
    "**Замечания:**\n",
    "1. Для улучшения качества сети предлагается использовать дополнительный Embedding слой на входе (каждому слову ставится в соответствие обучаемый вектор). \n",
    "\n",
    "2. Не забудьте, что `<PAD>` токены не должны учавствовать в подсчёте функции потерь."
   ]
  },
  {
   "cell_type": "code",
   "execution_count": null,
   "metadata": {
    "collapsed": true
   },
   "outputs": [],
   "source": [
    "class BiLSTMModel(torch.nn.Module):\n",
    "    def __init__(self, vocabulary_size, n_tags, PAD_index,\n",
    "                 embedding_dim, rnn_hidden_size,\n",
    "                 dropout_zeroed_probability,\n",
    "                 device='cpu'):\n",
    "        '''\n",
    "        Defines neural network structure.\n",
    "        \n",
    "        architecture: input -> Embedding -> BiLSTM -> Dropout -> Linear\n",
    "        optimizer: Adam\n",
    "        \n",
    "        ----------\n",
    "        Parameters\n",
    "        \n",
    "        vocabulary_size: int, number of words in vocabulary.\n",
    "        n_tags: int, number of tags.\n",
    "        PAD_index: int, index of padding character. Used for loss masking.\n",
    "        embedding_dim: int, dimension of words' embeddings.\n",
    "        rnn_hidden_size: int, number of hidden units in each LSTM cell\n",
    "        dropout_zeroed_probability: float, dropout zeroed probability for Dropout layer.\n",
    "        device: str, cpu or cuda:x\n",
    "        '''\n",
    "        ######################################\n",
    "        ######### YOUR CODE HERE #############\n",
    "        ######################################        \n",
    "\n",
    "        \n",
    "    def forward(self, x_batch):\n",
    "        '''\n",
    "        Makes forward pass.\n",
    "        \n",
    "        ----------\n",
    "        Parameters\n",
    "        x_batch: torch.LongTensor with shape (number of samples in batch, number words in sentence).\n",
    "        '''\n",
    "        ######################################\n",
    "        ######### YOUR CODE HERE #############\n",
    "        ######################################        \n",
    "    \n",
    "    def predict_for_batch(self, x_batch):\n",
    "        '''\n",
    "        Returns predictions for x_batch.\n",
    "        \n",
    "        return type: torch.LongTensor\n",
    "        return shape: (number of samples in batch, number words in sentence.\n",
    "        \n",
    "        ----------\n",
    "        Parameters\n",
    "        x_batch: torch.LongTensor with shape (number of samples in batch, number words in sentence).\n",
    "        '''\n",
    "        ######################################\n",
    "        ######### YOUR CODE HERE #############\n",
    "        ######################################        \n",
    "    \n",
    "    def train_on_batch(self, x_batch, y_batch, optimizer, loss_function):\n",
    "        '''\n",
    "        Trains model on the given batch.\n",
    "        \n",
    "        ----------\n",
    "        Parameters\n",
    "        x_batch: np.ndarray with shape (number of samples in batch, number words in sentence).\n",
    "        y_batch: np.ndarray with shape (number of samples in batch).\n",
    "        optimizer: torch.optimizer class\n",
    "        loss_function: torch loss class\n",
    "        '''\n",
    "        ######################################\n",
    "        ######### YOUR CODE HERE #############\n",
    "        ######################################        \n"
   ]
  },
  {
   "cell_type": "markdown",
   "metadata": {},
   "source": [
    "Для тестирования сети мы подготовили для вас две функции:\n",
    " - *predict_tags*: получает батч данных и трансформирует его в список из токенов и предсказанных тегов;\n",
    " - *eval_conll*: вычисляет метрики precision, recall и F1"
   ]
  },
  {
   "cell_type": "code",
   "execution_count": null,
   "metadata": {
    "collapsed": true
   },
   "outputs": [],
   "source": [
    "from evaluation_ner import precision_recall_f1"
   ]
  },
  {
   "cell_type": "code",
   "execution_count": null,
   "metadata": {
    "collapsed": true
   },
   "outputs": [],
   "source": [
    "def predict_tags(model, token_idxs_batch):\n",
    "    \"\"\"Performs predictions and transforms indices to tokens and tags.\"\"\"\n",
    "    \n",
    "    tag_idxs_batch = model.predict_for_batch(token_idxs_batch)\n",
    "    tags_batch, tokens_batch = [], []\n",
    "    for tag_idxs, token_idxs in zip(tag_idxs_batch, token_idxs_batch):\n",
    "        tags, tokens = [], []\n",
    "        for tag_idx, token_idx in zip(tag_idxs, token_idxs):\n",
    "            if token_idx != token2idx['<PAD>']:\n",
    "                tags.append(idx2tag[tag_idx])\n",
    "                tokens.append(idx2token[token_idx])\n",
    "        tags_batch.append(tags)\n",
    "        tokens_batch.append(tokens)\n",
    "    return tags_batch, tokens_batch\n",
    "    \n",
    "    \n",
    "def eval_conll(model, tokens, tags, short_report=True):\n",
    "    \"\"\"Computes NER quality measures using CONLL shared task script.\"\"\"\n",
    "    \n",
    "    y_true, y_pred = [], []\n",
    "    for x_batch, y_batch in batches_generator(1, tokens, tags):\n",
    "        tags_batch, tokens_batch = predict_tags(model, x_batch)\n",
    "        ground_truth_tags = [idx2tag[tag_idx] for tag_idx in y_batch[0]]\n",
    "\n",
    "        # We extend every prediction and ground truth sequence with 'O' tag\n",
    "        # to indicate a possible end of entity.\n",
    "        y_true.extend(ground_truth_tags + ['O'])\n",
    "        y_pred.extend(tags_batch[0] + ['O'])\n",
    "    results = precision_recall_f1(y_true, y_pred, print_results=True, short_report=short_report)\n",
    "    return results"
   ]
  },
  {
   "cell_type": "markdown",
   "metadata": {},
   "source": [
    "### Эксперименты\n",
    "\n",
    "Задайте BiLSTMModel. Рекомендуемые параметры:\n",
    "- *batch_size*: 32;\n",
    "- начальное значение *learning_rate*: 0.01-0.001\n",
    "- *dropout_zeroed_probability*: 0.7-0.9\n",
    "- *embedding_dim*: 100-200\n",
    "- *rnn_hidden_size*: 150-200"
   ]
  },
  {
   "cell_type": "markdown",
   "metadata": {},
   "source": [
    "Проведите эксперименты на данных. Настраивайте параметры по валидационной выборке, не используя тестовую. Ваше цель — настроить сеть так, чтобы качество модели по F1 мере на валидационной и тестовой выборках было не меньше 0.35. \n",
    "\n",
    "Если сеть плохо обучается, попробуйте использовать следующие модификации:\n",
    "    * используйте gradient clipping\n",
    "    * на каждой итерации уменьшайте learning rate (например, в 1.1 раз)\n",
    "    * попробуйте вместо Adam другие оптимизаторы \n",
    "    * экспериментируйте с dropout\n",
    "\n",
    "Сделайте выводы о качестве модели, переобучении, чувствительности архитектуры к выбору гиперпараметров. Оформите результаты экспериментов в виде мини-отчета (в этом же ipython notebook)."
   ]
  },
  {
   "cell_type": "code",
   "execution_count": null,
   "metadata": {},
   "outputs": [],
   "source": [
    "######################################\n",
    "######### YOUR CODE HERE #############\n",
    "######################################        "
   ]
  },
  {
   "cell_type": "markdown",
   "metadata": {},
   "source": [
    "## Бонусная часть. Улучшение качества теггера (4 балла).\n",
    "\n",
    "Улучшите качество теггера на данной задаче.\n",
    "\n",
    "Бонусные баллы будут начисляться в зависимости от результата f1-меры (одновременно на тестовой и валидационной выборках!).\n",
    "\n",
    "+ 1 балл — $> 0.38$\n",
    "+ 2 балла — $> 0.4$\n",
    "+ 3 балла — $> 0.425$\n",
    "+ 4 балла — $> 0.45$\n",
    "\n",
    "Разрешается использовать любые разумные способы (в том числе и не рассматривающиеся в курсе). Под неразумными способами понимаются любые, в которых используются модели, обученные на dev или test, а также модели, использующие утечки в данных, не относяющиеся к смыслу задачи."
   ]
  },
  {
   "cell_type": "code",
   "execution_count": null,
   "metadata": {},
   "outputs": [],
   "source": [
    "######################################\n",
    "######### YOUR CODE HERE #############\n",
    "######################################        "
   ]
  }
 ],
 "metadata": {
  "kernelspec": {
   "display_name": "Python 3",
   "language": "python",
   "name": "python3"
  },
  "language_info": {
   "codemirror_mode": {
    "name": "ipython",
    "version": 3
   },
   "file_extension": ".py",
   "mimetype": "text/x-python",
   "name": "python",
   "nbconvert_exporter": "python",
   "pygments_lexer": "ipython3",
   "version": "3.6.5"
  }
 },
 "nbformat": 4,
 "nbformat_minor": 1
}
